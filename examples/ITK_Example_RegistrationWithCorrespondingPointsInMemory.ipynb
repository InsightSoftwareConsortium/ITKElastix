{
 "cells": [
  {
   "cell_type": "markdown",
   "id": "d71ffba9-c7a7-4871-a1b4-baee5d9f1dca",
   "metadata": {},
   "source": [
    "## Image registration with help of corresponding points (in memory)"
   ]
  },
  {
   "cell_type": "markdown",
   "id": "2cd37425",
   "metadata": {},
   "source": [
    "Demonstrates how to help an image registration by using a fixed and a moving set of corresponding points. While \"ITK_Example05_PointRegistration.ipynb\" showed how to specify those point sets by txt files, this notebook shows how to pass the points \"in memory\", without file I/O.\n",
    "\n",
    "In this example, there is just a rotation between the fixed and the moving image. But of course, corresponding point sets can also be used with other transformations."
   ]
  },
  {
   "cell_type": "markdown",
   "id": "d2b9d35d-b115-46a3-8985-96f19af79104",
   "metadata": {},
   "source": [
    "First import some packages, and define a few helper functions used by this example"
   ]
  },
  {
   "cell_type": "code",
   "execution_count": 1,
   "id": "639d3356",
   "metadata": {},
   "outputs": [],
   "source": [
    "import itk\n",
    "import numpy as np\n",
    "import math\n",
    "import matplotlib.pyplot as plt\n",
    "\n",
    "\n",
    "# Generates an itk.PointSet having the specified points.\n",
    "def make_point_set(dimension: int, points: tuple):\n",
    "    # When using itk.PointSet, its pixel/data type must be specified. It's not really relevant to in this example, it can be anything.\n",
    "    PointSetPixelDataType = itk.UC\n",
    "    point_set = itk.PointSet[PointSetPixelDataType, dimension].New()\n",
    "\n",
    "    point_container = point_set.GetPoints().CastToSTLContainer()\n",
    "\n",
    "    point_container.reserve(len(points))\n",
    "    for point in points:\n",
    "        point_container.push_back(point)\n",
    "\n",
    "    return point_set\n",
    "\n",
    "\n",
    "# Converts an itk.Point to a tuple.\n",
    "def point_to_tuple(point):\n",
    "    return tuple(coordinate for coordinate in point)\n",
    "\n",
    "\n",
    "# Rotates the specified point around the specified center.\n",
    "def rotate_point(point: tuple, center: tuple, rotation_angle: float):\n",
    "    x = point[0] - center[0]\n",
    "    y = point[1] - center[1]\n",
    "    cos = math.cos(rotation_angle)\n",
    "    sin = math.sin(rotation_angle)\n",
    "    return (x * cos - y * sin + center[0], y * cos + x * sin + center[1])\n",
    "\n",
    "\n",
    "# Rotates the specified points around the specified center.\n",
    "def rotate_points(points: tuple, center: tuple, rotation_angle: float):\n",
    "    return tuple(rotate_point(point, center, rotation_angle) for point in points)\n",
    "\n",
    "\n",
    "# Shows the specified points.\n",
    "def show_points(ax, image_size: tuple, points, title: str):\n",
    "    ax.set_title(title)\n",
    "    ax.set_aspect(\"equal\")\n",
    "    ax.set_xlim(0, image_size[0])\n",
    "    ax.set_ylim(0, image_size[1])\n",
    "\n",
    "    ax.scatter(\n",
    "        x=[point[0] for point in points],\n",
    "        y=[point[1] for point in points],\n",
    "        s=128,\n",
    "    )\n",
    "    for i, point in enumerate(points):\n",
    "        ax.plot(point[0], point[1], color=\"yellow\", marker=\"$\" + str(i + 1) + \"$\")\n",
    "\n",
    "\n",
    "# Shows the specified image onto the specified axis.\n",
    "def show_image(ax, image, title: str):\n",
    "    ax.set_title(title)\n",
    "    ax.imshow(cmap=\"binary_r\", origin=\"lower\", X=itk.array_view_from_image(image))\n",
    "\n",
    "\n",
    "# Shows the fixed image, the moving image, and the output image of the specified registration.\n",
    "def show_images_of_registration(registration):\n",
    "    fig = plt.figure()\n",
    "    ax1, ax2, ax3 = fig.subplots(1, 3)\n",
    "    show_image(ax1, registration.GetFixedImage(), \"Fixed image\")\n",
    "    show_image(ax2, registration.GetMovingImage(), \"Moving image\")\n",
    "    show_image(ax3, registration.GetOutput(), \"Output image\")\n",
    "    plt.show()"
   ]
  },
  {
   "cell_type": "markdown",
   "id": "ea0a9c81-98a0-45b9-9dcc-0c7e33c06ddb",
   "metadata": {},
   "source": [
    "Define the example image size, rotation angle, fixed and moving points."
   ]
  },
  {
   "cell_type": "code",
   "execution_count": 2,
   "id": "1443c475",
   "metadata": {},
   "outputs": [],
   "source": [
    "image_size_value = 32\n",
    "image_size = (image_size_value, image_size_value)\n",
    "center = (image_size_value / 2, image_size_value / 2)\n",
    "dimension = len(image_size)\n",
    "fixed_point1 = (10.0, 15.0)\n",
    "fixed_point2 = (20.0, 15.0)\n",
    "fixed_points = (fixed_point1, fixed_point2)\n",
    "# For the sake of the example, a rather large rotation is used.\n",
    "rotation_angle = 1.4\n",
    "moving_points = rotate_points(fixed_points, center, rotation_angle)"
   ]
  },
  {
   "cell_type": "markdown",
   "id": "6df7a35f-ae40-46a3-81c3-0b398f98246b",
   "metadata": {},
   "source": [
    "Inspect the example rotation angle, the fixed and moving points, and plot.\n"
   ]
  },
  {
   "cell_type": "code",
   "execution_count": 3,
   "id": "cddc7f71-9ba1-4291-bf6f-bb8066271e3a",
   "metadata": {},
   "outputs": [
    {
     "name": "stdout",
     "output_type": "stream",
     "text": [
      "Image size:  (32, 32)\n",
      "Rotation angle: 1.4 radians (about 80.2 degrees)\n",
      "Fixed points:  ((10.0, 15.0), (20.0, 15.0))\n",
      "Moving points:  ((15.965646872587014, 9.917334477168998), (17.665318301589423, 19.7718317770536))\n"
     ]
    },
    {
     "data": {
      "image/png": "[encoded data removed]",
      "text/plain": [
       "<Figure size 640x480 with 2 Axes>"
      ]
     },
     "metadata": {},
     "output_type": "display_data"
    }
   ],
   "source": [
    "print(\"Image size: \", image_size)\n",
    "print(\n",
    "    f\"Rotation angle: {rotation_angle} radians (about {np.rad2deg(rotation_angle):.1f} degrees)\"\n",
    ")\n",
    "print(\"Fixed points: \", fixed_points)\n",
    "print(\"Moving points: \", moving_points)\n",
    "\n",
    "fig = plt.figure()\n",
    "ax1, ax2 = fig.subplots(1, 2)\n",
    "show_points(ax1, image_size, fixed_points, \"Fixed points\")\n",
    "show_points(ax2, image_size, moving_points, \"Moving points\")"
   ]
  },
  {
   "cell_type": "markdown",
   "id": "099fedf0-8b67-4ba3-b5ba-dbd6356c5e8b",
   "metadata": {},
   "source": [
    "Create a fixed and a moving image. Let them have a black (zero-initialized) background. Make the pixels that correspond (approximately) with the points of the fixed and moving point sets white (value 1)."
   ]
  },
  {
   "cell_type": "code",
   "execution_count": 4,
   "id": "710decc8-61ab-4ffe-b363-cb7e1642c0f4",
   "metadata": {},
   "outputs": [],
   "source": [
    "def create_image(image_size):\n",
    "    PixelType = itk.SS\n",
    "    ImageType = itk.Image[PixelType, len(image_size)]\n",
    "    image = ImageType.New(regions=image_size)\n",
    "    image.AllocateInitialized()\n",
    "    return image\n",
    "\n",
    "\n",
    "fixed_image = create_image(image_size)\n",
    "moving_image = create_image(image_size)\n",
    "\n",
    "for point in fixed_points:\n",
    "    fixed_image.SetPixel((round(point[0]), round(point[1])), 1)\n",
    "for point in moving_points:\n",
    "    moving_image.SetPixel((round(point[0]), round(point[1])), 1)"
   ]
  },
  {
   "cell_type": "markdown",
   "id": "797db5f2-6c2d-4c19-99ad-4c93d3618165",
   "metadata": {},
   "source": [
    "Show the fixed and moving image"
   ]
  },
  {
   "cell_type": "code",
   "execution_count": 5,
   "id": "2139a8bd",
   "metadata": {},
   "outputs": [
    {
     "data": {
      "image/png": "[encoded data removed]",
      "text/plain": [
       "<Figure size 640x480 with 2 Axes>"
      ]
     },
     "metadata": {},
     "output_type": "display_data"
    }
   ],
   "source": [
    "fig = plt.figure()\n",
    "ax1, ax2 = fig.subplots(1, 2)\n",
    "show_image(ax1, fixed_image, \"Fixed image\")\n",
    "show_image(ax2, moving_image, \"Moving image\")\n",
    "plt.show()"
   ]
  },
  {
   "cell_type": "markdown",
   "id": "4f5cf3fc-c80a-4811-8e50-8f8f0535ac27",
   "metadata": {},
   "source": [
    "So now we have finished creating the synthetic example data. First try to just register the images:"
   ]
  },
  {
   "cell_type": "code",
   "execution_count": 6,
   "id": "13553993-6753-433a-be5b-04ccff941474",
   "metadata": {},
   "outputs": [
    {
     "name": "stdout",
     "output_type": "stream",
     "text": [
      "Resulting transformation (rotation, translation X, translation Y):  [ 0.15593503 -1.99956239  4.30013125]\n"
     ]
    },
    {
     "data": {
      "image/png": "[encoded data removed]",
      "text/plain": [
       "<Figure size 640x480 with 3 Axes>"
      ]
     },
     "metadata": {},
     "output_type": "display_data"
    }
   ],
   "source": [
    "parameter_object = itk.ParameterObject.New()\n",
    "parameter_object.SetParameterMap(\n",
    "    {\n",
    "        \"ResampleInterpolator\": (\"FinalNearestNeighborInterpolator\",),\n",
    "        \"ImageSampler\": (\"Full\",),\n",
    "        \"AutomaticScalesEstimation\": (\"true\",),\n",
    "        \"AutomaticTransformInitialization\": (\"true\",),\n",
    "        \"MaximumNumberOfIterations\": (\"100\",),\n",
    "        \"Metric\": (\"AdvancedNormalizedCorrelation\",),\n",
    "        \"Optimizer\": (\"AdaptiveStochasticGradientDescent\",),\n",
    "        \"Registration\": (\"MultiResolutionRegistration\",),\n",
    "        \"Transform\": (\"EulerTransform\",),\n",
    "    }\n",
    ")\n",
    "\n",
    "registration = itk.ElastixRegistrationMethod.New(\n",
    "    fixed_image=fixed_image,\n",
    "    moving_image=moving_image,\n",
    "    parameter_object=parameter_object,\n",
    ")\n",
    "registration.Update()\n",
    "\n",
    "result_transform = registration.GetNthTransform(0)\n",
    "print(\n",
    "    \"Resulting transformation (rotation, translation X, translation Y): \",\n",
    "    itk.array_view_from_vnl_vector(result_transform.GetParameters()),\n",
    ")\n",
    "\n",
    "show_images_of_registration(registration)"
   ]
  },
  {
   "cell_type": "markdown",
   "id": "9600a7dc-9be8-4801-bcec-be9e6cb4fb15",
   "metadata": {},
   "source": [
    "You may have observed that the registration has gone wrong! The output image does not look like the fixed image. And the resulting transformation is not at all what you would expect.\n",
    "\n",
    "So now we will try to rerun the registration, but now we specify the corresponding points and we include a point-to-point metric:"
   ]
  },
  {
   "cell_type": "code",
   "execution_count": 7,
   "id": "5f47a9b0-d446-48bf-b096-bfca5362b233",
   "metadata": {},
   "outputs": [
    {
     "name": "stdout",
     "output_type": "stream",
     "text": [
      "Resulting transformation (rotation, translation X, translation Y):  [ 1.39805218  0.920003   -0.08029669]\n",
      "Transformed points:  [(15.967186769703394, 9.915617789383415), (17.68604973535247, 19.766785745789402)]\n",
      "Moving points:  ((15.965646872587014, 9.917334477168998), (17.665318301589423, 19.7718317770536))\n",
      "\n"
     ]
    },
    {
     "data": {
      "image/png": "[encoded data removed]",
      "text/plain": [
       "<Figure size 640x480 with 3 Axes>"
      ]
     },
     "metadata": {},
     "output_type": "display_data"
    },
    {
     "data": {
      "image/png": "[encoded data removed]",
      "text/plain": [
       "<Figure size 640x480 with 3 Axes>"
      ]
     },
     "metadata": {},
     "output_type": "display_data"
    }
   ],
   "source": [
    "parameter_object.SetParameter(\n",
    "    \"Registration\",\n",
    "    (\"MultiMetricMultiResolutionRegistration\"),\n",
    ")\n",
    "parameter_object.SetParameter(\n",
    "    \"Metric\",\n",
    "    (\"AdvancedNormalizedCorrelation\", \"CorrespondingPointsEuclideanDistanceMetric\"),\n",
    ")\n",
    "\n",
    "fixed_point_set = make_point_set(dimension, fixed_points)\n",
    "moving_point_set = make_point_set(dimension, moving_points)\n",
    "\n",
    "registration = itk.ElastixRegistrationMethod.New(\n",
    "    fixed_image=fixed_image,\n",
    "    moving_image=moving_image,\n",
    "    parameter_object=parameter_object,\n",
    "    fixed_points=fixed_point_set.GetPoints(),\n",
    "    moving_points=moving_point_set.GetPoints(),\n",
    ")\n",
    "registration.Update()\n",
    "\n",
    "result_transform = registration.GetNthTransform(0)\n",
    "print(\n",
    "    \"Resulting transformation (rotation, translation X, translation Y): \",\n",
    "    itk.array_view_from_vnl_vector(result_transform.GetParameters()),\n",
    ")\n",
    "\n",
    "transformed_points = []\n",
    "\n",
    "for point in fixed_points:\n",
    "    transformed_point = result_transform.TransformPoint(point)\n",
    "    transformed_points.append(point_to_tuple(transformed_point))\n",
    "\n",
    "print(\"Transformed points: \", transformed_points)\n",
    "print(\"Moving points: \", moving_points)\n",
    "print()\n",
    "fig = plt.figure()\n",
    "ax1, ax2, ax3 = fig.subplots(1, 3)\n",
    "show_points(ax1, image_size, fixed_points, \"Fixed points\")\n",
    "show_points(ax2, image_size, moving_points, \"Moving points\")\n",
    "show_points(ax3, image_size, transformed_points, \"Transformed points\")\n",
    "show_images_of_registration(registration)"
   ]
  },
  {
   "cell_type": "markdown",
   "id": "e768a77f-20f8-49fa-9770-76d37c6ebdfe",
   "metadata": {},
   "source": [
    "That looks more like it! The resulting transformation has a rotation close to the initially applied rotation, and the translation is less than a pixel. The transformed points look very much like the moving points, and the output image looks like the fixed image. So in this case it appears very helpful to add corresponding points to the image registation. &#x1F600;"
   ]
  },
  {
   "cell_type": "markdown",
   "id": "66fd9eff-08fb-49d6-b6e1-6971567e13da",
   "metadata": {},
   "source": [
    "Note that the very same registration may be performed using the `elastix_registration_method` function, instead of an `ElastixRegistrationMethod` object, as follows:"
   ]
  },
  {
   "cell_type": "code",
   "execution_count": 8,
   "id": "66b554ae-982b-4289-bf2d-d7ceac8c243f",
   "metadata": {},
   "outputs": [],
   "source": [
    "result_image, result_transform_parameter_object = itk.elastix_registration_method(\n",
    "    fixed_image=fixed_image,\n",
    "    moving_image=moving_image,\n",
    "    parameter_object=parameter_object,\n",
    "    fixed_points=fixed_point_set.GetPoints(),\n",
    "    moving_points=moving_point_set.GetPoints(),\n",
    ")"
   ]
  },
  {
   "cell_type": "markdown",
   "id": "b216bed2-476b-4c44-ae36-ec6cd2c5be79",
   "metadata": {},
   "source": [
    "Which produces a result image that is the same as the previously shown output image, and a parameter object that represents the same transformation: "
   ]
  },
  {
   "cell_type": "code",
   "execution_count": 9,
   "id": "73a2bdff-32c8-40f2-9d6e-9b4cfc91fd7d",
   "metadata": {},
   "outputs": [
    {
     "name": "stdout",
     "output_type": "stream",
     "text": [
      "ParameterObject (0000025D3D80DE60)\n",
      "  RTTI typeinfo:   class elastix::ParameterObject\n",
      "  Reference Count: 1\n",
      "  Modified Time: 32956\n",
      "  Debug: Off\n",
      "  Object Name: \n",
      "  Observers: \n",
      "    none\n",
      "ParameterMap 0: \n",
      "  (CenterOfRotationPoint 15.5 15.5)\n",
      "  (CompressResultImage \"false\")\n",
      "  (DefaultPixelValue)\n",
      "  (Direction 1 0 0 1)\n",
      "  (FixedImageDimension 2)\n",
      "  (FixedInternalImagePixelType \"float\")\n",
      "  (HowToCombineTransforms \"Compose\")\n",
      "  (Index 0 0)\n",
      "  (InitialTransformParameterFileName \"NoInitialTransform\")\n",
      "  (MovingImageDimension 2)\n",
      "  (MovingInternalImagePixelType \"float\")\n",
      "  (NumberOfParameters 3)\n",
      "  (Origin 0 0)\n",
      "  (ResampleInterpolator \"FinalNearestNeighborInterpolator\")\n",
      "  (Resampler \"DefaultResampler\")\n",
      "  (ResultImageFormat \"mhd\")\n",
      "  (ResultImagePixelType \"short\")\n",
      "  (Size 32 32)\n",
      "  (Spacing 1 1)\n",
      "  (Transform \"EulerTransform\")\n",
      "  (TransformParameters 1.39805 0.920003 -0.0802967)\n",
      "  (UseDirectionCosines \"true\")\n",
      "\n"
     ]
    },
    {
     "data": {
      "image/png": "[encoded data removed]",
      "text/plain": [
       "<Figure size 640x480 with 1 Axes>"
      ]
     },
     "metadata": {},
     "output_type": "display_data"
    }
   ],
   "source": [
    "print(result_transform_parameter_object)\n",
    "fig = plt.figure()\n",
    "ax = fig.subplots(1, 1)\n",
    "show_image(ax, result_image, \"Result image\")"
   ]
  }
 ],
 "metadata": {
  "kernelspec": {
   "display_name": "Python 3 (ipykernel)",
   "language": "python",
   "name": "python3"
  },
  "language_info": {
   "codemirror_mode": {
    "name": "ipython",
    "version": 3
   },
   "file_extension": ".py",
   "mimetype": "text/x-python",
   "name": "python",
   "nbconvert_exporter": "python",
   "pygments_lexer": "ipython3",
   "version": "3.11.11"
  }
 },
 "nbformat": 4,
 "nbformat_minor": 5
}
