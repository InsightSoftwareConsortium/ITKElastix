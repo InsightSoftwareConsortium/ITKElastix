{
 "cells": [
  {
   "cell_type": "markdown",
   "metadata": {},
   "source": [
    "# Elastix\n",
    "\n",
    "This notebooks show very basic image registration examples with on-the-fly generated binary images."
   ]
  },
  {
   "cell_type": "code",
   "execution_count": 21,
   "metadata": {},
   "outputs": [],
   "source": [
    "from itk import itkElastixRegistrationMethodPython\n",
    "from itk import itkTransformixFilterPython\n",
    "import itk\n",
    "import numpy as np\n",
    "import matplotlib.pyplot as plt"
   ]
  },
  {
   "cell_type": "markdown",
   "metadata": {},
   "source": [
    "## Image generators"
   ]
  },
  {
   "cell_type": "code",
   "execution_count": 42,
   "metadata": {},
   "outputs": [],
   "source": [
    "def image_generator(x1, x2, y1, y2, upsampled=False, bspline=False,\n",
    "                   mask=False, artefact=False):\n",
    "    if upsampled:\n",
    "        image = np.zeros([1000, 1000], np.float32)\n",
    "    elif mask:\n",
    "        image = np.zeros([100, 100], np.uint8)\n",
    "    else:\n",
    "        image = np.zeros([100, 100], np.float32)\n",
    "    for x in range(x1, x2):\n",
    "        for y in range(y1, y2):\n",
    "            if bspline:\n",
    "                y += x\n",
    "                if x > 99 or y > 99:\n",
    "                    pass\n",
    "                else:\n",
    "                    image[x, y] = 1\n",
    "            else:\n",
    "                image[x, y] = 1\n",
    "    if artefact:\n",
    "        image[:, -10:] = 1\n",
    "    image = itk.image_view_from_array(image)\n",
    "    return image"
   ]
  },
  {
   "cell_type": "markdown",
   "metadata": {},
   "source": [
    "## Bspline Test"
   ]
  },
  {
   "cell_type": "code",
   "execution_count": 10,
   "metadata": {},
   "outputs": [],
   "source": [
    "# Create test images\n",
    "fixed_image_bspline = image_generator(25,65,25,65)\n",
    "moving_image_bspline = image_generator(5,55,5,40, bspline=True)\n",
    "\n",
    "# Import Default Parameter Map\n",
    "parameter_object = itk.ParameterObject.New()\n",
    "default_affine_parameter_map = parameter_object.GetDefaultParameterMap('affine')\n",
    "parameter_object.AddParameterMap(default_affine_parameter_map)\n",
    "default_bspline_parameter_map = parameter_object.GetDefaultParameterMap('bspline')\n",
    "parameter_object.AddParameterMap(default_bspline_parameter_map)"
   ]
  },
  {
   "cell_type": "code",
   "execution_count": 11,
   "metadata": {},
   "outputs": [],
   "source": [
    "# Call registration function\n",
    "result_image_bspline, result_transform_parameters = itk.elastix_registration_method(\n",
    "    fixed_image_bspline, moving_image_bspline,\n",
    "    parameter_object=parameter_object,\n",
    "    log_to_console=True)"
   ]
  },
  {
   "cell_type": "markdown",
   "metadata": {},
   "source": [
    "### Bspline Test Transformix"
   ]
  },
  {
   "cell_type": "code",
   "execution_count": 12,
   "metadata": {},
   "outputs": [],
   "source": [
    "# Load Transformix Object\n",
    "transformix_object = itk.TransformixFilter.New()\n",
    "transformix_object.SetMovingImage(moving_image_bspline)\n",
    "transformix_object.SetTransformParameterObject(result_transform_parameters)\n",
    "\n",
    "# Update object (required)\n",
    "transformix_object.UpdateLargestPossibleRegion()\n",
    "\n",
    "# Results of Transformation\n",
    "result_image_transformix = transformix_object.GetOutput()\n"
   ]
  },
  {
   "cell_type": "markdown",
   "metadata": {},
   "source": [
    "### Bspline Test Visualization"
   ]
  },
  {
   "cell_type": "code",
   "execution_count": 13,
   "metadata": {},
   "outputs": [
    {
     "data": {
      "image/png": "[encoded data removed]",
      "text/plain": [
       "<Figure size 2160x2160 with 4 Axes>"
      ]
     },
     "metadata": {
      "needs_background": "light"
     },
     "output_type": "display_data"
    }
   ],
   "source": [
    "%matplotlib inline\n",
    "\n",
    "# Plot images\n",
    "fig, axs = plt.subplots(1,4, sharey=True, figsize=[30,30])\n",
    "plt.figsize=[100,100]\n",
    "axs[0].imshow(result_image_bspline)\n",
    "axs[0].set_title('Result', fontsize=30)\n",
    "axs[1].imshow(fixed_image_bspline)\n",
    "axs[1].set_title('Fixed', fontsize=30)\n",
    "axs[2].imshow(moving_image_bspline)\n",
    "axs[2].set_title('Moving', fontsize=30)\n",
    "axs[3].imshow(result_image_transformix)\n",
    "axs[3].set_title('Transformix', fontsize=30)\n",
    "plt.show()"
   ]
  }
 ],
 "metadata": {
  "kernelspec": {
   "display_name": "Python 3",
   "language": "python",
   "name": "python3"
  },
  "language_info": {
   "codemirror_mode": {
    "name": "ipython",
    "version": 3
   },
   "file_extension": ".py",
   "mimetype": "text/x-python",
   "name": "python",
   "nbconvert_exporter": "python",
   "pygments_lexer": "ipython3",
   "version": "3.8.5"
  }
 },
 "nbformat": 4,
 "nbformat_minor": 4
}
