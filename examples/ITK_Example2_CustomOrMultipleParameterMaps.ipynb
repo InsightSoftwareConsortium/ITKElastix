{
 "cells": [
  {
   "cell_type": "markdown",
   "metadata": {},
   "source": [
    "## 2. Image Registration with Multiple and Custom Parameter Maps"
   ]
  },
  {
   "cell_type": "markdown",
   "metadata": {},
   "source": [
    "### Registration"
   ]
  },
  {
   "cell_type": "code",
   "execution_count": 3,
   "metadata": {},
   "outputs": [],
   "source": [
    "from itk import itkElastixRegistrationMethodPython\n",
    "from itk import itkTransformixFilterPython\n",
    "import itk"
   ]
  },
  {
   "cell_type": "markdown",
   "metadata": {},
   "source": [
    "We can run the registration with multiple stages, using the spatial transformation result from the current stage to initialize registration at the next stage.\n",
    "\n",
    "Typically, we start with a simple spatial transformation and advance to a more complex spatial transformation.\n",
    "\n",
    "The default, conservative, registration parameters progress from a *translation -> affine -> bspline* transformation, with 4 resolutions for each transformation type.\n",
    "\n",
    "When multiple resolutions are used, a multi-scale image pyramid is generated with downscaled versions of the image. Registration results at a lower resolution is used to initialize registration at a higher resolution.\n",
    "This improves speed and robustness.\n",
    "\n",
    "The number of resolutions can be manually specified aswell.\n",
    "\n",
    "A default set of registration parameters are available for\n",
    "\n",
    "- *translation*\n",
    "- *rigid*\n",
    "- *affine*\n",
    "- *bspline*\n",
    "- *spline*\n",
    "- *groupwise*\n",
    "\n",
    "transformations. More information on these transformation and on all possible parameter settings can be found in the [elastix manual](http://elastix.isi.uu.nl/download/elastix-5.0.0-manual.pdf)."
   ]
  },
  {
   "cell_type": "code",
   "execution_count": 4,
   "metadata": {},
   "outputs": [],
   "source": [
    "# Import Images\n",
    "fixed_image = itk.imread('data/CT_2D_head_fixed.mha', itk.F)\n",
    "moving_image = itk.imread('data/CT_2D_head_moving.mha', itk.F)\n",
    "\n",
    "# Import Default Parameter Map\n",
    "parameter_object = itk.ParameterObject.New()\n",
    "resolutions = 3\n",
    "parameter_map_rigid = parameter_object.GetDefaultParameterMap('rigid',3)\n",
    "parameter_object.AddParameterMap(parameter_map_rigid)\n",
    "\n",
    "# .. and/or load custom parameter maps from .txt file\n",
    "parameter_object.AddParameterFile('data/parameters_BSpline.txt')\n",
    "\n",
    "# ... and/or load and customize more\n",
    "parameter_map_custom = parameter_object.GetDefaultParameterMap('rigid')\n",
    "parameter_map_custom['Transform'] = ['BSplineTransform']\n",
    "parameter_map_custom['Metric'] = ['AdvancedMattesMutualInformation']\n",
    "parameter_object.AddParameterMap(parameter_map_custom)\n",
    "\n",
    "# Save custom parameter map\n",
    "parameter_object.WriteParameterFile(\n",
    "    parameter_map_custom, 'parameters_custom.txt')"
   ]
  },
  {
   "cell_type": "markdown",
   "metadata": {},
   "source": [
    "Registration can either be done in one line with the registration function..."
   ]
  },
  {
   "cell_type": "code",
   "execution_count": 5,
   "metadata": {},
   "outputs": [],
   "source": [
    "# Call registration function\n",
    "result_image, result_transform_parameters = itk.elastix_registration_method(\n",
    "    fixed_image, moving_image,\n",
    "    parameter_object=parameter_object,\n",
    "    log_to_console=False)"
   ]
  },
  {
   "cell_type": "markdown",
   "metadata": {},
   "source": [
    ".. or by initiating an elastix image filter object."
   ]
  },
  {
   "cell_type": "code",
   "execution_count": 6,
   "metadata": {},
   "outputs": [],
   "source": [
    "# Load Elastix Image Filter Object\n",
    "elastix_object = itk.ElastixRegistrationMethod.New()\n",
    "elastix_object.SetFixedImage(fixed_image)\n",
    "elastix_object.SetMovingImage(moving_image)\n",
    "elastix_object.SetParameterObject(parameter_object)\n",
    "\n",
    "# Set additional options\n",
    "elastix_object.SetLogToConsole(False)\n",
    "\n",
    "# Update filter object (required)\n",
    "elastix_object.UpdateLargestPossibleRegion()\n",
    "\n",
    "# Results of Registration\n",
    "result_image = elastix_object.GetOutput()\n",
    "result_transform_parameters = elastix_object.GetTransformParameterObject()"
   ]
  }
 ],
 "metadata": {
  "kernelspec": {
   "display_name": "Python 3",
   "language": "python",
   "name": "python3"
  },
  "language_info": {
   "codemirror_mode": {
    "name": "ipython",
    "version": 3
   },
   "file_extension": ".py",
   "mimetype": "text/x-python",
   "name": "python",
   "nbconvert_exporter": "python",
   "pygments_lexer": "ipython3",
   "version": "3.7.8"
  }
 },
 "nbformat": 4,
 "nbformat_minor": 4
}
