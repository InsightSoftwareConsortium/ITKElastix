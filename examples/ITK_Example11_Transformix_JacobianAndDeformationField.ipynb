{
 "cells": [
  {
   "cell_type": "markdown",
   "metadata": {},
   "source": [
    "## 11. Transformix: Spatial Jacobian and Deformation Field calculations"
   ]
  },
  {
   "cell_type": "markdown",
   "metadata": {},
   "source": [
    "With the transformix algorithm the spatial jacobian, the determinant of the spatial jacobian and the deformation field of the transformation can be calculated.\n",
    "Especially the determinant of the spatial Jacobian, which identifies the amount of local\n",
    "compression or expansion and can be quite useful, for example in lung ventilation studies.\n",
    "\n",
    "The deformation field is a vector image where each voxel contains the displacement vector in physical coordinates."
   ]
  },
  {
   "cell_type": "markdown",
   "metadata": {},
   "source": [
    "### Elastix"
   ]
  },
  {
   "cell_type": "code",
   "execution_count": 32,
   "metadata": {},
   "outputs": [],
   "source": [
    "from itk import itkElastixRegistrationMethodPython\n",
    "from itk import itkTransformixFilterPython\n",
    "import itk"
   ]
  },
  {
   "cell_type": "code",
   "execution_count": 33,
   "metadata": {},
   "outputs": [],
   "source": [
    "# Import Images\n",
    "fixed_image = itk.imread('data/CT_2D_head_fixed.mha', itk.F)\n",
    "moving_image = itk.imread('data/CT_2D_head_moving.mha', itk.F)\n",
    "\n",
    "# Import Default Parameter Map\n",
    "parameter_object = itk.ParameterObject.New()\n",
    "parameter_map_rigid = parameter_object.GetDefaultParameterMap('rigid')\n",
    "parameter_object.AddParameterMap(parameter_map_rigid)"
   ]
  },
  {
   "cell_type": "markdown",
   "metadata": {},
   "source": [
    "Registration with the registration function.\n",
    "The output directory has to be specified, \n",
    "otherwise elastix will not save the transformparameter file as .txt file"
   ]
  },
  {
   "cell_type": "code",
   "execution_count": 36,
   "metadata": {},
   "outputs": [],
   "source": [
    "# Call registration function and specify output directory\n",
    "result_image, result_transform_parameters = itk.elastix_registration_method(\n",
    "    fixed_image, moving_image,\n",
    "    parameter_object=parameter_object,\n",
    "    output_directory='exampleoutput/')"
   ]
  },
  {
   "cell_type": "markdown",
   "metadata": {},
   "source": [
    "### Transformix"
   ]
  },
  {
   "cell_type": "code",
   "execution_count": 35,
   "metadata": {},
   "outputs": [],
   "source": [
    "# Import Image to transform, transformix is transforming from moving -> fixed;\n",
    "# for this example the exact same moving image is used, this however is normally not \n",
    "# very usefull since the elastix algorithm already transformed this image.\n",
    "moving_image_transformix = itk.imread('data/CT_2D_head_moving.mha', itk.F)"
   ]
  },
  {
   "cell_type": "markdown",
   "metadata": {},
   "source": [
    "Transformation can either be done in one line with the transformix function..."
   ]
  },
  {
   "cell_type": "code",
   "execution_count": 27,
   "metadata": {},
   "outputs": [],
   "source": [
    "transformed_image = itk.transformix_filter(\n",
    "    moving_image=moving_image_transformix,\n",
    "    transform_parameter_object=result_transform_parameters,\n",
    "    compute_deformation_field=True,\n",
    "    compute_spatial_jacobian=True,\n",
    "    compute_determinant_of_spatial_jacobian=True,\n",
    "    output_directory='exampleoutput/')"
   ]
  },
  {
   "cell_type": "markdown",
   "metadata": {},
   "source": [
    ".. or by initiating an transformix image filter object."
   ]
  },
  {
   "cell_type": "code",
   "execution_count": 28,
   "metadata": {},
   "outputs": [],
   "source": [
    "# Load Transformix Object\n",
    "transformix_object = itk.TransformixFilter.New()\n",
    "transformix_object.SetMovingImage(moving_image_transformix)\n",
    "transformix_object.SetTransformParameterObject(result_transform_parameters)\n",
    "\n",
    "# Set advanced options\n",
    "transformix_object.SetComputeSpatialJacobian(True)\n",
    "transformix_object.SetComputeDeterminantOfSpatialJacobian(True)\n",
    "transformix_object.SetComputeDeformationField(True)\n",
    "\n",
    "# Set output directory for spatial jacobian and its determinant,\n",
    "# default directory is current directory.\n",
    "transformix_object.SetOutputDirectory('exampleoutput/')\n",
    "\n",
    "# Update object (required)\n",
    "transformix_object.UpdateLargestPossibleRegion()\n",
    "\n",
    "# Results of Transformation\n",
    "result_image_transformix = transformix_object.GetOutput()\n",
    "deformation_field = transformix_object.GetOutputDeformationField()"
   ]
  },
  {
   "cell_type": "markdown",
   "metadata": {},
   "source": [
    "The deformation field can currently only be computed with the object oriented method of transformix, this will change is future updates to ITKElastix"
   ]
  },
  {
   "cell_type": "markdown",
   "metadata": {},
   "source": [
    "## Deformation Field Inversion"
   ]
  },
  {
   "cell_type": "markdown",
   "metadata": {},
   "source": [
    "The DisplacementMagnitudePenalty is a cost function that penalises ||Tµ(x) − x||2. You can use this\n",
    "to invert transforms, by setting the transform to be inverted as an initial transform (using -t0), setting\n",
    "(HowToCombineTransforms \"Compose\"), and running elastix with this metric, using the original fixed\n",
    "image set both as fixed (-f) and moving (-m) image. After that you can manually set the initial transform\n",
    "in the last parameter file to \"NoInitialTransform\", and voila, you have the inverse transform! Strictly\n",
    "speaking, you should then also change the Size/Spacing/Origin/Index/Direction settings to match that of\n",
    "the moving image.\n",
    "Note that inverting a transformation becomes conceptually very similar to performing an image registration\n",
    "in this way. Consequently, the same choices are relevant: optimisation algorithm, multiresolution etc...\n",
    "With Transformix the inverted transform can then be used to calculate the inversion of the deformation field, just like Transformix normally calculates the deformation field from a transform."
   ]
  },
  {
   "cell_type": "code",
   "execution_count": 43,
   "metadata": {},
   "outputs": [],
   "source": [
    "# Import Default Parameter Map and adjust parameters\n",
    "parameter_object = itk.ParameterObject.New()\n",
    "parameter_map_rigid = parameter_object.GetDefaultParameterMap('rigid')\n",
    "parameter_map_rigid['HowToCombineTransforms'] = ['Compose']\n",
    "parameter_object.AddParameterMap(parameter_map_rigid)\n",
    "\n",
    "# Call registration function with transform parameters of normal elastix run as initial transform\n",
    "# on fixed image to fixed image registration.\n",
    "inverse_image, inverse_transform_parameters = itk.elastix_registration_method(\n",
    "    fixed_image, fixed_image,\n",
    "    parameter_object=parameter_object,\n",
    "    initial_transform_parameter_file_name='exampleoutput/TransformParameters.0.txt')\n",
    "\n",
    "# Adjust inverse transform parameters object\n",
    "inverse_transform_parameters.SetParameter(\n",
    "    0, \"InitialTransformParametersFileName\", \"NoInitialTransform\")"
   ]
  },
  {
   "cell_type": "code",
   "execution_count": 44,
   "metadata": {},
   "outputs": [],
   "source": [
    "# Load Transformix Object with inverse transform parameters\n",
    "transformix_object = itk.TransformixFilter.New()\n",
    "\n",
    "# Setting the original fixed image for inverse transformation should give the moving image as result\n",
    "# but since we're focussed on obtaining the inverse deformation field, setting this image is trivial.\n",
    "transformix_object.SetMovingImage(fixed_image)\n",
    "transformix_object.SetTransformParameterObject(inverse_transform_parameters)\n",
    "\n",
    "# Set Deformation Field boolean\n",
    "transformix_object.SetComputeDeformationField(True)\n",
    "\n",
    "# Update object (required)\n",
    "transformix_object.UpdateLargestPossibleRegion()\n",
    "\n",
    "# Get the inverse of the deformation field\n",
    "inverse_deformation_field = transformix_object.GetOutputDeformationField()"
   ]
  }
 ],
 "metadata": {
  "kernelspec": {
   "display_name": "Python 3",
   "language": "python",
   "name": "python3"
  },
  "language_info": {
   "codemirror_mode": {
    "name": "ipython",
    "version": 3
   },
   "file_extension": ".py",
   "mimetype": "text/x-python",
   "name": "python",
   "nbconvert_exporter": "python",
   "pygments_lexer": "ipython3",
   "version": "3.8.5"
  }
 },
 "nbformat": 4,
 "nbformat_minor": 4
}
