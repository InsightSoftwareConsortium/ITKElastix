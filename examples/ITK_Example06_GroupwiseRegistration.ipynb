{
 "cells": [
  {
   "cell_type": "markdown",
   "metadata": {},
   "source": [
    "## 6. Groupwise Image Registration"
   ]
  },
  {
   "cell_type": "markdown",
   "metadata": {},
   "source": [
    "Groupwise registration methods try to mitigate uncertainties associated with any one image by simultaneously registering all images in a population. This incorporates all image information in registration process and eliminates bias towards a chosen reference frame. The method described here uses a 3D (2D+time) and 4D (3D+time) free-form B-spline deformation model and a similarity metric that minimizes variance of intensities under the constraint that the average deformation over images is zero. This constraint defines a true mean frame of reference that lie in the center of the population without having to calculate it explicitly.\n",
    "\n",
    "The method can take into account temporal smoothness of the deformations and a cyclic transform in the time dimension. This may be appropriate if it is known a priori that the anatomical motion has a cyclic nature e.g. in cases of cardiac or respiratory motion."
   ]
  },
  {
   "cell_type": "markdown",
   "metadata": {},
   "source": [
    "### Registration"
   ]
  },
  {
   "cell_type": "code",
   "execution_count": 1,
   "metadata": {},
   "outputs": [],
   "source": [
    "# First import is currently necessary to run ITKElastix on MacOs\n",
    "from itk import itkElastixRegistrationMethodPython\n",
    "import itk\n",
    "import numpy as np\n",
    "import matplotlib.pyplot as plt"
   ]
  },
  {
   "cell_type": "markdown",
   "metadata": {},
   "source": [
    "For this example image generators are used to generate 2D and 3D vector of images for registration. "
   ]
  },
  {
   "cell_type": "code",
   "execution_count": 2,
   "metadata": {},
   "outputs": [],
   "source": [
    "# Image generator functions\n",
    "def image_generator_2D(x1, x2, y1, y2):\n",
    "    image = np.zeros([100, 100], np.float32)\n",
    "    for x in range(x1, x2):\n",
    "        for y in range(y1, y2):\n",
    "            image[x, y] = 1\n",
    "    return image\n",
    "\n",
    "\n",
    "def image_generator_3D(x1, x2, y1, y2, z1, z2):\n",
    "    image = np.zeros([100, 100, 100], np.float32)\n",
    "    for x in range(x1, x2):\n",
    "        for y in range(y1, y2):\n",
    "            for z in range(z1, z2):\n",
    "                image[x, y, z] = 1\n",
    "    return image"
   ]
  },
  {
   "cell_type": "code",
   "execution_count": 3,
   "metadata": {},
   "outputs": [],
   "source": [
    "# Create a vector of images for a 2D+time example in numpy\n",
    "vector_of_images = np.zeros([6, 100, 100], np.float32)\n",
    "i = 0\n",
    "for x in range(0, 30, 5):\n",
    "    image = image_generator_2D(x, x+50, x, x+50)\n",
    "    vector_of_images[i] = image\n",
    "    i += 1\n",
    "\n",
    "vector_itk = itk.image_view_from_array(vector_of_images)"
   ]
  },
  {
   "cell_type": "code",
   "execution_count": 4,
   "metadata": {},
   "outputs": [],
   "source": [
    "# Create a vector of images for a 3D+time example in numpy\n",
    "vector_of_images = np.zeros([6, 100, 100, 100], np.float32)\n",
    "i = 0\n",
    "for x in range(0, 30, 5):\n",
    "    image = image_generator_3D(x, x+50, x, x+50, x, x+50)\n",
    "    vector_of_images[i] = image\n",
    "    i += 1\n",
    "\n",
    "####### ----- Error for 3D+time case, itk package not build for 4D images, \n",
    "####### ----- options to rebuild with different flag possible----- ######\n",
    "# vector_itk = itk.image_view_from_array(vector_of_images)"
   ]
  },
  {
   "cell_type": "code",
   "execution_count": 6,
   "metadata": {},
   "outputs": [],
   "source": [
    "# Or Load real imagesS\n",
    "vector_of_images = []\n",
    "for i in range(10):\n",
    "    image = itk.imread('data/00/00-slice00%s.dcm'%i, itk.F)\n",
    "    vector_of_images.append(image)"
   ]
  },
  {
   "cell_type": "code",
   "execution_count": 7,
   "metadata": {},
   "outputs": [],
   "source": [
    "# Create Groupwise Parameter Object\n",
    "parameter_object = itk.ParameterObject.New()\n",
    "groupwise_parameter_map = parameter_object.GetDefaultParameterMap('groupwise')\n",
    "parameter_object.AddParameterMap(groupwise_parameter_map)"
   ]
  },
  {
   "cell_type": "markdown",
   "metadata": {},
   "source": [
    "Registration can either be done in one line with the registration function..."
   ]
  },
  {
   "cell_type": "code",
   "execution_count": 8,
   "metadata": {},
   "outputs": [],
   "source": [
    "# Call registration function\n",
    "# both fixed and moving image should be set with the vector_itk to prevent elastix from throwing errors\n",
    "####### ----- Error for 3D+time case, itk package not build for 4D images, \n",
    "####### ----- options to rebuild with different flag possible----- ######\n",
    "\n",
    "# result_image, result_transform_parameters = itk.elastix_registration_method(\n",
    "#     vector_of_images, vector_of_images,\n",
    "#     parameter_object=parameter_object,\n",
    "#     log_to_console=True)"
   ]
  },
  {
   "cell_type": "code",
   "execution_count": 9,
   "metadata": {},
   "outputs": [],
   "source": [
    "# Call registration function\n",
    "# both fixed and moving image should be set with the vector_itk to prevent elastix from throwing errors\n",
    "####### ----- Error for 3D+time case----- ######\n",
    "\n",
    "result_image, result_transform_parameters = itk.elastix_registration_method(\n",
    "    vector_itk, vector_itk,\n",
    "    parameter_object=parameter_object,\n",
    "    log_to_console=True)"
   ]
  },
  {
   "cell_type": "markdown",
   "metadata": {},
   "source": [
    ".. or by initiating an elastix image filter object."
   ]
  },
  {
   "cell_type": "code",
   "execution_count": null,
   "metadata": {},
   "outputs": [],
   "source": [
    "# Load Elastix Image Filter Object\n",
    "# Fixed and moving image should be given to the Elastix method to ensure that\n",
    "# the correct 3D class is initialized.\n",
    "# Both fixed and moving image should be set with the vector_itk to prevent elastix from throwing errors\n",
    "\n",
    "####### ----- Error for 3D+time case, 2D+time case shown here----- ######\n",
    "\n",
    "elastix_object = itk.ElastixRegistrationMethod.New(vector_itk, vector_itk)\n",
    "elastix_object.SetParameterObject(parameter_object)\n",
    "\n",
    "# Set additional options\n",
    "elastix_object.SetLogToConsole(False)\n",
    "\n",
    "# Update filter object (required)\n",
    "elastix_object.UpdateLargestPossibleRegion()\n",
    "\n",
    "# Results of Registration\n",
    "result_image = elastix_object.GetOutput()\n",
    "result_transform_parameters = elastix_object.GetTransformParameterObject()"
   ]
  },
  {
   "cell_type": "markdown",
   "metadata": {},
   "source": [
    "### Visualization (not working in binder yet)\n",
    "The results of the groupwise image registration can be visualized in viewers such as the Napari viewer.\n",
    "For Napari the images have to be converted to n-dimensional numpy arrays."
   ]
  },
  {
   "cell_type": "code",
   "execution_count": null,
   "metadata": {},
   "outputs": [],
   "source": [
    "# import napari"
   ]
  },
  {
   "cell_type": "code",
   "execution_count": null,
   "metadata": {},
   "outputs": [],
   "source": [
    "# Cast result images to numpy arrays for Napari Viewer\n",
    "# result_image_np = np.asarray(result_image).astype(np.float32)"
   ]
  },
  {
   "cell_type": "code",
   "execution_count": null,
   "metadata": {},
   "outputs": [],
   "source": [
    "# View output with Napari Viewer\n",
    "# with napari.gui_qt():\n",
    "#     viewer = napari.Viewer()\n",
    "#     viewer.add_image(result_image_np)\n",
    "#     viewer.add_image(vector_of_images_2D[0])\n",
    "#     viewer.add_image(vector_of_images_2D[1])\n",
    "#     viewer.add_image(vector_of_images_2D[2])\n",
    "#     viewer.add_image(vector_of_images_2D[3])\n",
    "#     viewer.add_image(vector_of_images_2D[4])\n",
    "#     viewer.add_image(vector_of_images_2D[5])"
   ]
  }
 ],
 "metadata": {
  "kernelspec": {
   "display_name": "ElastixEnv",
   "language": "python",
   "name": "elastixenv"
  },
  "language_info": {
   "codemirror_mode": {
    "name": "ipython",
    "version": 3
   },
   "file_extension": ".py",
   "mimetype": "text/x-python",
   "name": "python",
   "nbconvert_exporter": "python",
   "pygments_lexer": "ipython3",
   "version": "3.8.5"
  }
 },
 "nbformat": 4,
 "nbformat_minor": 4
}
