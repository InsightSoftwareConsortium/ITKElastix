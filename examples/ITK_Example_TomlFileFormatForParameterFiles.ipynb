{
 "cells": [
  {
   "cell_type": "markdown",
   "id": "538204d0-0943-4376-baf3-e7c200405c46",
   "metadata": {},
   "source": [
    "## TOML file format for parameter files"
   ]
  },
  {
   "cell_type": "markdown",
   "id": "f550fc77-b86a-4330-ba87-11caa1494039",
   "metadata": {},
   "source": [
    "Demonstrates using TOML as file format for registration parameters and transformation parameters.\n"
   ]
  },
  {
   "cell_type": "markdown",
   "id": "0b5651b7-86b3-4006-b4d6-98b68320e761",
   "metadata": {},
   "source": [
    "Let's start by importing packages and defining a few helper functions."
   ]
  },
  {
   "cell_type": "code",
   "execution_count": 1,
   "id": "89951988-37a0-4d7a-81f4-58dc53c8e5b9",
   "metadata": {},
   "outputs": [],
   "source": [
    "import itk\n",
    "\n",
    "# import tomllib without installing external package, as suggested by Tommy Wolfheart, Jan 23, 2025,\n",
    "# https://stackoverflow.com/questions/75115582/how-to-load-toml-file-in-python/79380110#79380110\n",
    "try:\n",
    "    import tomllib  # Python v3.11+\n",
    "except ModuleNotFoundError:\n",
    "    import pip._vendor.tomli as tomllib  # the same tomllib that's now included in Python v3.11+\n",
    "\n",
    "import math\n",
    "import matplotlib.pyplot as plt\n",
    "import os\n",
    "import pathlib\n",
    "import pprint\n",
    "\n",
    "\n",
    "# Shows the specified image onto the specified axis.\n",
    "def show_image(ax, image, title: str):\n",
    "    ax.set_title(title)\n",
    "    ax.imshow(cmap=\"binary_r\", origin=\"lower\", X=itk.array_view_from_image(image))\n",
    "\n",
    "\n",
    "# Print the contents of the specified file.\n",
    "def print_file_contents(file_name: str):\n",
    "    with open(file_name, \"r\") as input_file:\n",
    "        print(file_name + \" file contents:\\n\", input_file.read(), sep=\"\\n\")\n",
    "\n",
    "\n",
    "# Loads the Python dict from the specified TOML file, and prints it.\n",
    "def print_toml_dict(file_name: str):\n",
    "    print(file_name + \" as Python dict:\\n\")\n",
    "    with open(file_name, \"rb\") as input_file:\n",
    "        toml_document = tomllib.load(input_file)\n",
    "        pprint.pprint(toml_document)\n",
    "    print()"
   ]
  },
  {
   "cell_type": "markdown",
   "id": "25a687aa-064e-48f7-b14d-279ae839e465",
   "metadata": {},
   "source": [
    "Create the Input and Output directories for the registration, and write two TOML parameter files to the Input directory: a registration parameter file and a transformation parameter file (for the initial transformation).\n",
    "\n",
    "Note that the registration parameter file has parameter `OutputTransformParameterFileFormat = \"TOML\"`, specifying that the output transform parameter files should also have the TOML file format."
   ]
  },
  {
   "cell_type": "code",
   "execution_count": 2,
   "id": "4f4f0f50-56f2-47f6-a2bf-3d7aa5076435",
   "metadata": {},
   "outputs": [],
   "source": [
    "example_subdirectory_name = \"Example_TomlFileFormatForParameterFiles\"\n",
    "\n",
    "# Create an example subdirectory, if it isn't there already.\n",
    "if os.path.basename(os.getcwd()) != example_subdirectory_name:\n",
    "    pathlib.Path(example_subdirectory_name).mkdir(exist_ok=True)\n",
    "    os.chdir(example_subdirectory_name)\n",
    "current_directory_path = os.getcwd()\n",
    "\n",
    "# Create an input and an output directory.\n",
    "pathlib.Path(\"Input\").mkdir(exist_ok=True)\n",
    "# Create an output directory.\n",
    "pathlib.Path(\"Output\").mkdir(exist_ok=True)\n",
    "\n",
    "# Create parameter files in the TOML file format.\n",
    "with open(\"Input/registration_parameter_file.toml\", \"w\") as output_file:\n",
    "    print(\n",
    "        \"# Registration parameters\",\n",
    "        'ImageSampler = \"Full\"',\n",
    "        \"MaximumNumberOfIterations = 2\",\n",
    "        'Metric = \"AdvancedNormalizedCorrelation\"',\n",
    "        'Optimizer = \"AdaptiveStochasticGradientDescent\"',\n",
    "        'OutputTransformParameterFileFormat = \"TOML\"',\n",
    "        'Transform = \"TranslationTransform\"',\n",
    "        sep=\"\\n\",\n",
    "        file=output_file,\n",
    "    )\n",
    "with open(\"Input/initial_transform_parameters.toml\", \"w\") as output_file:\n",
    "    print(\n",
    "        \"# Initial transformation\",\n",
    "        \"CenterOfRotationPoint = [ 0.0, 0.0 ]\",\n",
    "        \"NumberOfParameters = 3\",\n",
    "        'Transform = \"EulerTransform\"',\n",
    "        f\"TransformParameters = [ {math.pi/2.0}, 0.0, 0.0 ]\",\n",
    "        sep=\"\\n\",\n",
    "        file=output_file,\n",
    "    )"
   ]
  },
  {
   "cell_type": "markdown",
   "id": "d4f5cfef-14f4-44a3-aa5e-9afddd900fb8",
   "metadata": {},
   "source": [
    "Show the contents of the parameter files we just created."
   ]
  },
  {
   "cell_type": "code",
   "execution_count": 3,
   "id": "bec59fe8-56cc-4b56-a43b-fb97c12dc454",
   "metadata": {},
   "outputs": [
    {
     "name": "stdout",
     "output_type": "stream",
     "text": [
      "Current directory: C:\\Users\\cedekker\\__My_Jupyter_Notebooks\\D-X-Src-I-ITKElastix-examples\\Example_TomlFileFormatForParameterFiles \n",
      "\n",
      "Input/initial_transform_parameters.toml file contents:\n",
      "\n",
      "# Initial transformation\n",
      "CenterOfRotationPoint = [ 0.0, 0.0 ]\n",
      "NumberOfParameters = 3\n",
      "Transform = \"EulerTransform\"\n",
      "TransformParameters = [ 1.5707963267948966, 0.0, 0.0 ]\n",
      "\n",
      "Input/initial_transform_parameters.toml as Python dict:\n",
      "\n",
      "{'CenterOfRotationPoint': [0.0, 0.0],\n",
      " 'NumberOfParameters': 3,\n",
      " 'Transform': 'EulerTransform',\n",
      " 'TransformParameters': [1.5707963267948966, 0.0, 0.0]}\n",
      "\n",
      "Input/registration_parameter_file.toml file contents:\n",
      "\n",
      "# Registration parameters\n",
      "ImageSampler = \"Full\"\n",
      "MaximumNumberOfIterations = 2\n",
      "Metric = \"AdvancedNormalizedCorrelation\"\n",
      "Optimizer = \"AdaptiveStochasticGradientDescent\"\n",
      "OutputTransformParameterFileFormat = \"TOML\"\n",
      "Transform = \"TranslationTransform\"\n",
      "\n",
      "Input/registration_parameter_file.toml as Python dict:\n",
      "\n",
      "{'ImageSampler': 'Full',\n",
      " 'MaximumNumberOfIterations': 2,\n",
      " 'Metric': 'AdvancedNormalizedCorrelation',\n",
      " 'Optimizer': 'AdaptiveStochasticGradientDescent',\n",
      " 'OutputTransformParameterFileFormat': 'TOML',\n",
      " 'Transform': 'TranslationTransform'}\n",
      "\n"
     ]
    }
   ],
   "source": [
    "print(\"Current directory:\", os.getcwd(), \"\\n\")\n",
    "print_file_contents(\"Input/initial_transform_parameters.toml\")\n",
    "print_toml_dict(\"Input/initial_transform_parameters.toml\")\n",
    "print_file_contents(\"Input/registration_parameter_file.toml\")\n",
    "print_toml_dict(\"Input/registration_parameter_file.toml\")"
   ]
  },
  {
   "cell_type": "markdown",
   "id": "d4915f8d-7b40-41d3-8aea-88e2090ab0ec",
   "metadata": {},
   "source": [
    "Read the registration parameters from the TOML file into a `ParameterObject`."
   ]
  },
  {
   "cell_type": "code",
   "execution_count": 4,
   "id": "fae876c7-1ab1-4cfd-af33-1b2273f0cbdb",
   "metadata": {},
   "outputs": [
    {
     "name": "stdout",
     "output_type": "stream",
     "text": [
      "ParameterObject (0000018D3C509AD0)\n",
      "  RTTI typeinfo:   class elastix::ParameterObject\n",
      "  Reference Count: 1\n",
      "  Modified Time: 66\n",
      "  Debug: Off\n",
      "  Object Name: \n",
      "  Observers: \n",
      "    none\n",
      "ParameterMap 0: \n",
      "  (ImageSampler \"Full\")\n",
      "  (MaximumNumberOfIterations 2)\n",
      "  (Metric \"AdvancedNormalizedCorrelation\")\n",
      "  (Optimizer \"AdaptiveStochasticGradientDescent\")\n",
      "  (OutputTransformParameterFileFormat \"TOML\")\n",
      "  (Transform \"TranslationTransform\")\n",
      "\n"
     ]
    }
   ],
   "source": [
    "registration_parameter_object = itk.ParameterObject.New()\n",
    "registration_parameter_object.ReadParameterFile(\n",
    "    \"Input/registration_parameter_file.toml\"\n",
    ")\n",
    "print(registration_parameter_object)"
   ]
  },
  {
   "cell_type": "markdown",
   "id": "b040b735-01fe-4b2b-be0f-45eb108e7ce7",
   "metadata": {},
   "source": [
    "Create two images, to be used as _fixed_ and _moving_ image."
   ]
  },
  {
   "cell_type": "code",
   "execution_count": 5,
   "id": "e326fddb",
   "metadata": {},
   "outputs": [
    {
     "data": {
      "image/png": "[encoded data removed]",
      "text/plain": [
       "<Figure size 640x480 with 2 Axes>"
      ]
     },
     "metadata": {},
     "output_type": "display_data"
    }
   ],
   "source": [
    "image_size = [16, 16]\n",
    "\n",
    "\n",
    "def create_image(image_size):\n",
    "    PixelType = itk.SS\n",
    "    ImageType = itk.Image[PixelType, len(image_size)]\n",
    "    # Place the origin in the center of the image, as it is used as center of rotation.\n",
    "    image = ImageType.New(\n",
    "        regions=image_size, origin=(-image_size[0] / 2.0, -image_size[1] / 2.0)\n",
    "    )\n",
    "    image.AllocateInitialized()\n",
    "    return image\n",
    "\n",
    "\n",
    "fixed_image = create_image(image_size)\n",
    "moving_image = create_image(image_size)\n",
    "\n",
    "for i in range(4):\n",
    "    pixel_value = i + 1\n",
    "    for j in range(8, 9):\n",
    "        fixed_image.SetPixel((i + 6, j), pixel_value)\n",
    "    for j in range(8, 9):\n",
    "        moving_image.SetPixel((j, i + 6), pixel_value)\n",
    "\n",
    "fig = plt.figure()\n",
    "ax1, ax2 = fig.subplots(1, 2)\n",
    "show_image(ax1, fixed_image, \"Fixed image\")\n",
    "show_image(ax2, moving_image, \"Moving image\")\n",
    "plt.show()"
   ]
  },
  {
   "cell_type": "markdown",
   "id": "28425fa9-bc19-4eec-96ad-dd09f8ef1b88",
   "metadata": {},
   "source": [
    "Now run the registration, registering the two images, using the initial transform specified by the TOML file, and the registration parameters from the parameter object."
   ]
  },
  {
   "cell_type": "code",
   "execution_count": 6,
   "id": "d2d16acb-5fef-444b-b3e8-280030df4f9d",
   "metadata": {},
   "outputs": [],
   "source": [
    "result_image, result_transform_parameter_object = itk.elastix_registration_method(\n",
    "    fixed_image=fixed_image,\n",
    "    moving_image=moving_image,\n",
    "    initial_transform_parameter_file_name=\"Input/initial_transform_parameters.toml\",\n",
    "    parameter_object=registration_parameter_object,\n",
    "    output_directory=\"Output\",\n",
    ")"
   ]
  },
  {
   "cell_type": "markdown",
   "id": "078dfb2b-bdde-4e2c-81d7-25020bcb5f56",
   "metadata": {},
   "source": [
    "Look at the result. The result image is very much like the fixed image, so the registration was successful! The resulting transformation can be inspected by looking at the returned transform parameter object, but also by looking at the \"TransformParameters.0.toml\" file that was placed in the output directory."
   ]
  },
  {
   "cell_type": "code",
   "execution_count": 7,
   "id": "34bbc09a-095f-406d-bbba-d03fc933c5af",
   "metadata": {},
   "outputs": [
    {
     "data": {
      "image/png": "[encoded data removed]",
      "text/plain": [
       "<Figure size 640x480 with 3 Axes>"
      ]
     },
     "metadata": {},
     "output_type": "display_data"
    },
    {
     "name": "stdout",
     "output_type": "stream",
     "text": [
      "ParameterObject (0000018D49E67390)\n",
      "  RTTI typeinfo:   class elastix::ParameterObject\n",
      "  Reference Count: 1\n",
      "  Modified Time: 2239\n",
      "  Debug: Off\n",
      "  Object Name: \n",
      "  Observers: \n",
      "    none\n",
      "ParameterMap 0: \n",
      "  (CompressResultImage \"false\")\n",
      "  (DefaultPixelValue)\n",
      "  (Direction 1 0 0 1)\n",
      "  (FinalBSplineInterpolationOrder 3)\n",
      "  (FixedImageDimension 2)\n",
      "  (FixedInternalImagePixelType \"float\")\n",
      "  (HowToCombineTransforms \"Compose\")\n",
      "  (Index 0 0)\n",
      "  (InitialTransformParameterFileName \"Input/initial_transform_parameters.toml\")\n",
      "  (MovingImageDimension 2)\n",
      "  (MovingInternalImagePixelType \"float\")\n",
      "  (NumberOfParameters 2)\n",
      "  (Origin -8 -8)\n",
      "  (ResampleInterpolator \"FinalBSplineInterpolator\")\n",
      "  (Resampler \"DefaultResampler\")\n",
      "  (ResultImageFormat \"mhd\")\n",
      "  (ResultImagePixelType \"short\")\n",
      "  (Size 16 16)\n",
      "  (Spacing 1 1)\n",
      "  (Transform \"TranslationTransform\")\n",
      "  (TransformParameters 5.44787e-09 2.55696e-08)\n",
      "  (UseDirectionCosines \"true\")\n",
      "\n",
      "Output/TransformParameters.0.toml file contents:\n",
      "\n",
      "Direction = [1, 0, 0, 1]\n",
      "FixedImageDimension = 2\n",
      "FixedInternalImagePixelType = \"float\"\n",
      "HowToCombineTransforms = \"Compose\"\n",
      "Index = [0, 0]\n",
      "InitialTransformParameterFileName = \"Input/initial_transform_parameters.toml\"\n",
      "MovingImageDimension = 2\n",
      "MovingInternalImagePixelType = \"float\"\n",
      "NumberOfParameters = 2\n",
      "Origin = [-8, -8]\n",
      "Size = [16, 16]\n",
      "Spacing = [1, 1]\n",
      "Transform = \"TranslationTransform\"\n",
      "TransformParameters = [5.447870839146533e-9, 2.55695867309296e-8]\n",
      "UseDirectionCosines = true\n",
      "\n",
      "# ResampleInterpolator specific\n",
      "FinalBSplineInterpolationOrder = 3\n",
      "ResampleInterpolator = \"FinalBSplineInterpolator\"\n",
      "\n",
      "# Resampler specific\n",
      "CompressResultImage = false\n",
      "DefaultPixelValue = 0\n",
      "Resampler = \"DefaultResampler\"\n",
      "ResultImageFormat = \"mhd\"\n",
      "ResultImagePixelType = \"short\"\n",
      "\n",
      "Output/TransformParameters.0.toml as Python dict:\n",
      "\n",
      "{'CompressResultImage': False,\n",
      " 'DefaultPixelValue': 0,\n",
      " 'Direction': [1, 0, 0, 1],\n",
      " 'FinalBSplineInterpolationOrder': 3,\n",
      " 'FixedImageDimension': 2,\n",
      " 'FixedInternalImagePixelType': 'float',\n",
      " 'HowToCombineTransforms': 'Compose',\n",
      " 'Index': [0, 0],\n",
      " 'InitialTransformParameterFileName': 'Input/initial_transform_parameters.toml',\n",
      " 'MovingImageDimension': 2,\n",
      " 'MovingInternalImagePixelType': 'float',\n",
      " 'NumberOfParameters': 2,\n",
      " 'Origin': [-8, -8],\n",
      " 'ResampleInterpolator': 'FinalBSplineInterpolator',\n",
      " 'Resampler': 'DefaultResampler',\n",
      " 'ResultImageFormat': 'mhd',\n",
      " 'ResultImagePixelType': 'short',\n",
      " 'Size': [16, 16],\n",
      " 'Spacing': [1, 1],\n",
      " 'Transform': 'TranslationTransform',\n",
      " 'TransformParameters': [5.447870839146533e-09, 2.55695867309296e-08],\n",
      " 'UseDirectionCosines': True}\n",
      "\n"
     ]
    }
   ],
   "source": [
    "fig = plt.figure()\n",
    "ax1, ax2, ax3 = fig.subplots(1, 3)\n",
    "show_image(ax1, fixed_image, \"Fixed image\")\n",
    "show_image(ax2, moving_image, \"Moving image\")\n",
    "show_image(ax3, result_image, \"Result image elastix\")\n",
    "plt.show()\n",
    "\n",
    "print(result_transform_parameter_object)\n",
    "print_file_contents(\"Output/TransformParameters.0.toml\")\n",
    "print_toml_dict(\"Output/TransformParameters.0.toml\")"
   ]
  },
  {
   "cell_type": "markdown",
   "id": "db27792e-4f36-4aa9-be12-dd25dc65dd80",
   "metadata": {},
   "source": [
    "The TOML file generated by the registration can be passed directly to transformix, to apply the found transformation onto the moving image: "
   ]
  },
  {
   "cell_type": "code",
   "execution_count": 8,
   "id": "2aed74d4-ab58-4b00-9036-9cc057c651ec",
   "metadata": {},
   "outputs": [],
   "source": [
    "result_image_transformix = itk.transformix_filter(\n",
    "    moving_image, transform_parameter_file_name=\"Output/TransformParameters.0.toml\"\n",
    ")"
   ]
  },
  {
   "cell_type": "markdown",
   "id": "5d0516f5-d72b-4a1f-a44c-0d3fecd4ca8d",
   "metadata": {},
   "source": [
    "And here is the transformix result:"
   ]
  },
  {
   "cell_type": "code",
   "execution_count": 9,
   "id": "95070030-2885-4c3c-b747-1f368ade80ea",
   "metadata": {},
   "outputs": [
    {
     "data": {
      "image/png": "[encoded data removed]",
      "text/plain": [
       "<Figure size 640x480 with 3 Axes>"
      ]
     },
     "metadata": {},
     "output_type": "display_data"
    }
   ],
   "source": [
    "fig = plt.figure()\n",
    "ax1, ax2, ax3 = fig.subplots(1, 3)\n",
    "show_image(ax1, fixed_image, \"Fixed image\")\n",
    "show_image(ax2, moving_image, \"Moving image\")\n",
    "show_image(ax3, result_image_transformix, \"Result image transformix\")\n",
    "plt.show()"
   ]
  },
  {
   "cell_type": "markdown",
   "id": "52e3c9bb-e848-4356-aabd-8c9a2a8cb4eb",
   "metadata": {},
   "source": [
    "Summary, as shown by this notebook: elastix supports TOML files as input for registration parameters (via a `ParameterObject`) and (initial) transform parameters. It can also produce TOML files as output, when you specify the registration parameter `OutputTransformParameterFileFormat = \"TOML\"`. transformix supports TOML files as input for transform parameters."
   ]
  }
 ],
 "metadata": {
  "kernelspec": {
   "display_name": "Python 3 (ipykernel)",
   "language": "python",
   "name": "python3"
  },
  "language_info": {
   "codemirror_mode": {
    "name": "ipython",
    "version": 3
   },
   "file_extension": ".py",
   "mimetype": "text/x-python",
   "name": "python",
   "nbconvert_exporter": "python",
   "pygments_lexer": "ipython3",
   "version": "3.11.11"
  }
 },
 "nbformat": 4,
 "nbformat_minor": 5
}
