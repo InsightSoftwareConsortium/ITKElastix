{
 "cells": [
  {
   "cell_type": "markdown",
   "metadata": {},
   "source": [
    "## 10. Point set and Mask Transformation"
   ]
  },
  {
   "cell_type": "markdown",
   "metadata": {},
   "source": [
    "Transformix can be used to transform point sets and mask images aswell. Masks can be seen as images so the registration of masks is done in similar fashion as the registration of a moving image.\n",
    "Point sets however need not be transformed with the backwards mapping protocol, but can instead be transformed with regular forward transformation (fixed -> moving)\n",
    "\n",
    "Transforming point sets can be used to get the regions of interest (ROI) in the moving image, based on ROI of the fixed image."
   ]
  },
  {
   "cell_type": "markdown",
   "metadata": {},
   "source": [
    "### Elastix"
   ]
  },
  {
   "cell_type": "code",
   "execution_count": 1,
   "metadata": {},
   "outputs": [],
   "source": [
    "# First two import are currently necessary to run ITKElastix on MacOs\n",
    "from itk import itkElastixRegistrationMethodPython\n",
    "from itk import itkTransformixFilterPython\n",
    "import itk"
   ]
  },
  {
   "cell_type": "code",
   "execution_count": 2,
   "metadata": {},
   "outputs": [],
   "source": [
    "# Import Images\n",
    "fixed_image = itk.imread('data/CT_3D_lung_fixed.mha', itk.F)\n",
    "moving_image = itk.imread('data/CT_3D_lung_moving.mha', itk.F)\n",
    "\n",
    "# Import Default Parameter Map\n",
    "parameter_object = itk.ParameterObject.New()\n",
    "parameter_map_rigid = parameter_object.GetDefaultParameterMap('rigid')\n",
    "parameter_object.AddParameterMap(parameter_map_rigid)"
   ]
  },
  {
   "cell_type": "markdown",
   "metadata": {},
   "source": [
    "Registration with the registration function..."
   ]
  },
  {
   "cell_type": "code",
   "execution_count": 3,
   "metadata": {},
   "outputs": [],
   "source": [
    "# Call registration function\n",
    "result_image, result_transform_parameters = itk.elastix_registration_method(\n",
    "    fixed_image, moving_image,\n",
    "    parameter_object=parameter_object)"
   ]
  },
  {
   "cell_type": "markdown",
   "metadata": {},
   "source": [
    "### Point Set Transformation"
   ]
  },
  {
   "cell_type": "markdown",
   "metadata": {},
   "source": [
    "Transformation can either be done in one line with the transformix function..."
   ]
  },
  {
   "cell_type": "code",
   "execution_count": 4,
   "metadata": {},
   "outputs": [],
   "source": [
    "# --- Error: procedural interface of transformix filter not working in 3D yet ---\n",
    "# result_point_set = itk.transformix_filter(\n",
    "#     moving_image=moving_image,\n",
    "#     fixed_point_set_file_name='data/CT_3D_lung_fixed_point_set.txt',\n",
    "#     transform_parameter_object=result_transform_parameters,\n",
    "#     output_directory = '/exampleoutput')"
   ]
  },
  {
   "cell_type": "markdown",
   "metadata": {},
   "source": [
    ".. or by initiating an transformix image filter object."
   ]
  },
  {
   "cell_type": "code",
   "execution_count": 7,
   "metadata": {},
   "outputs": [],
   "source": [
    "# Load Transformix Object\n",
    "# Explicit call to 3D Transformix method is currently necessary \n",
    "# for 3D (point set) transformations, this might change in future versions.\n",
    "transformix_object = itk.itkTransformixFilterPython.itkTransformixFilterIF3.New()\n",
    "transformix_object.SetFixedPointSetFileName('data/CT_3D_lung_fixed_point_set.txt')\n",
    "transformix_object.SetTransformParameterObject(result_transform_parameters)\n",
    "transformix_object.SetLogToConsole(True)\n",
    "transformix_object.SetOutputDirectory('exampleoutput/')\n",
    "\n",
    "# Update object (required)\n",
    "transformix_object.UpdateLargestPossibleRegion()\n",
    "\n",
    "# Results of Transformation\n",
    "# -- Bug? -- Output is saved as .txt file in outputdirectory.\n",
    "# The .GetOutput() function outputs an empty image.\n",
    "output_transformix = transformix_object.GetOutput()"
   ]
  },
  {
   "cell_type": "markdown",
   "metadata": {},
   "source": [
    "### Mask Transformation"
   ]
  },
  {
   "cell_type": "code",
   "execution_count": 8,
   "metadata": {},
   "outputs": [],
   "source": [
    "# Import Mask\n",
    "moving_mask = itk.imread('data/CT_3D_lung_moving_mask.mha', itk.F)"
   ]
  },
  {
   "cell_type": "markdown",
   "metadata": {},
   "source": [
    "Transformation of a mask is similar to the transformation of an image and can either be done in one line with the transformix function..."
   ]
  },
  {
   "cell_type": "code",
   "execution_count": 9,
   "metadata": {},
   "outputs": [],
   "source": [
    "# --- Error: procedural interface of transformix filter not working in 3D yet ---\n",
    "# result_mask = itk.transformix_filter(\n",
    "#     moving_image=moving_mask,\n",
    "#     transform_parameter_object=result_transform_parameters)"
   ]
  },
  {
   "cell_type": "markdown",
   "metadata": {},
   "source": [
    ".. or by initiating an transformix image filter object."
   ]
  },
  {
   "cell_type": "code",
   "execution_count": 10,
   "metadata": {},
   "outputs": [],
   "source": [
    "# Load Transformix Object \n",
    "# Explicit call to 3D Transformix method is currently necessary \n",
    "# for 3D (point set) transformations, this might change in future versions.\n",
    "transformix_object = itk.itkTransformixFilterPython.itkTransformixFilterIF3.New()\n",
    "transformix_object.SetMovingImage(moving_mask)\n",
    "transformix_object.SetTransformParameterObject(result_transform_parameters)\n",
    "\n",
    "# Update object (required)\n",
    "transformix_object.UpdateLargestPossibleRegion()\n",
    "\n",
    "# Results of Transformation\n",
    "result_moving_mask = transformix_object.GetOutput()"
   ]
  }
 ],
 "metadata": {
  "kernelspec": {
   "display_name": "ElastixEnv",
   "language": "python",
   "name": "elastixenv"
  },
  "language_info": {
   "codemirror_mode": {
    "name": "ipython",
    "version": 3
   },
   "file_extension": ".py",
   "mimetype": "text/x-python",
   "name": "python",
   "nbconvert_exporter": "python",
   "pygments_lexer": "ipython3",
   "version": "3.8.5"
  }
 },
 "nbformat": 4,
 "nbformat_minor": 4
}
