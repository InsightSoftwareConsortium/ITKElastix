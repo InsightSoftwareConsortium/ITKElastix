{
 "cells": [
  {
   "cell_type": "markdown",
   "metadata": {},
   "source": [
    "## 9. Point set and Mask Transformation"
   ]
  },
  {
   "cell_type": "markdown",
   "metadata": {},
   "source": [
    "<a id='section_id10'></a>\n",
    "Transformix can be used to transform point sets and mask images as well. Masks can be seen as images so the registration of masks is done in similar fashion as the registration of a moving image.\n",
    "When transforming an image or mask (defined in the moving image domain), it is transformed to the fixed image domain. This is useful for example when one needs to deform a segmentation from the moving image to the fixed image, to obtain an estimate of a segmentation in the fixed image. When transforming a point set, this happens the other way around: from the fixed image domain to the moving image domain. This is useful for example when you want to know where a point maps to.\n",
    "Point sets therefor need not be transformed with the backwards mapping protocol, but can instead be transformed with regular forward transformation (fixed -> moving).\n",
    "Transforming point sets can be used to get the regions of interest (ROI) in the moving image, based on ROI of the fixed image."
   ]
  },
  {
   "cell_type": "markdown",
   "metadata": {},
   "source": [
    "### Elastix"
   ]
  },
  {
   "cell_type": "code",
   "execution_count": 18,
   "metadata": {},
   "outputs": [],
   "source": [
    "# First two import are currently necessary to run ITKElastix on MacOs\n",
    "from itk import itkElastixRegistrationMethodPython\n",
    "from itk import itkTransformixFilterPython\n",
    "import itk\n",
    "import numpy as np\n",
    "from itkwidgets import compare, checkerboard"
   ]
  },
  {
   "cell_type": "code",
   "execution_count": 2,
   "metadata": {},
   "outputs": [],
   "source": [
    "# Import Images\n",
    "fixed_image = itk.imread('data/CT_3D_lung_fixed.mha', itk.F)\n",
    "moving_image = itk.imread('data/CT_3D_lung_moving.mha', itk.F)\n",
    "\n",
    "# Import Default Parameter Map\n",
    "parameter_object = itk.ParameterObject.New()\n",
    "parameter_map_rigid = parameter_object.GetDefaultParameterMap('rigid')\n",
    "parameter_object.AddParameterMap(parameter_map_rigid)"
   ]
  },
  {
   "cell_type": "markdown",
   "metadata": {},
   "source": [
    "Registration with the registration function..."
   ]
  },
  {
   "cell_type": "code",
   "execution_count": 3,
   "metadata": {},
   "outputs": [],
   "source": [
    "# Call registration function\n",
    "result_image, result_transform_parameters = itk.elastix_registration_method(\n",
    "    fixed_image, moving_image,\n",
    "    parameter_object=parameter_object)"
   ]
  },
  {
   "cell_type": "markdown",
   "metadata": {},
   "source": [
    "### Mask Transformation"
   ]
  },
  {
   "cell_type": "code",
   "execution_count": 7,
   "metadata": {},
   "outputs": [],
   "source": [
    "# Import Mask\n",
    "moving_mask = itk.imread('data/CT_3D_lung_moving_mask.mha', itk.F)"
   ]
  },
  {
   "cell_type": "code",
   "execution_count": 5,
   "metadata": {},
   "outputs": [
    {
     "name": "stdout",
     "output_type": "stream",
     "text": [
      "ParameterObject (00000238862E47D0)\n",
      "  RTTI typeinfo:   class elastix::ParameterObject\n",
      "  Reference Count: 1\n",
      "  Modified Time: 33671\n",
      "  Debug: Off\n",
      "  Object Name: \n",
      "  Observers: \n",
      "    none\n",
      "ParameterMap 0: \n",
      "  (CenterOfRotationPoint -75.965 -43.804 -1274.5)\n",
      "  (CompressResultImage \"false\")\n",
      "  (ComputeZYX \"false\")\n",
      "  (DefaultPixelValue 0)\n",
      "  (Direction 1 0 0 0 1 0 0 0 1)\n",
      "  (FinalBSplineInterpolationOrder 0)\n",
      "  (FixedImageDimension 3)\n",
      "  (FixedInternalImagePixelType \"float\")\n",
      "  (HowToCombineTransforms \"Compose\")\n",
      "  (Index 0 0 0)\n",
      "  (InitialTransformParametersFileName \"NoInitialTransform\")\n",
      "  (MovingImageDimension 3)\n",
      "  (MovingInternalImagePixelType \"float\")\n",
      "  (NumberOfParameters 6)\n",
      "  (Origin -153.827 -150.352 -1434.5)\n",
      "  (ResampleInterpolator \"FinalBSplineInterpolator\")\n",
      "  (Resampler \"DefaultResampler\")\n",
      "  (ResultImageFormat \"nii\")\n",
      "  (ResultImagePixelType \"float\")\n",
      "  (Size 115 157 129)\n",
      "  (Spacing 1.366 1.366 2.5)\n",
      "  (Transform \"EulerTransform\")\n",
      "  (TransformParameters -0.0118538 -0.00436769 -0.0190571 -7.32935 -7.2486 40.1254)\n",
      "  (UseDirectionCosines \"true\")\n",
      "\n"
     ]
    }
   ],
   "source": [
    "# Mask image is a binary image, therefore the FinalBSplineInterpolationOrder should be 0\n",
    "result_transform_parameters.SetParameter('FinalBSplineInterpolationOrder','0')\n",
    "print(result_transform_parameters)"
   ]
  },
  {
   "cell_type": "markdown",
   "metadata": {},
   "source": [
    "Transformation of a mask is similar to the transformation of an image and can either be done in one line with the transformix function..."
   ]
  },
  {
   "cell_type": "code",
   "execution_count": 13,
   "metadata": {},
   "outputs": [],
   "source": [
    "# Procedural interface of transformix filter\n",
    "result_mask = itk.transformix_filter(\n",
    "    moving_mask,\n",
    "    result_transform_parameters)"
   ]
  },
  {
   "cell_type": "markdown",
   "metadata": {},
   "source": [
    ".. or by initiating an transformix image filter object."
   ]
  },
  {
   "cell_type": "code",
   "execution_count": 15,
   "metadata": {},
   "outputs": [],
   "source": [
    "# Load Transformix Object, initialize with 3D Mask. \n",
    "transformix_object = itk.TransformixFilter.New(moving_mask)\n",
    "\n",
    "transformix_object.SetTransformParameterObject(result_transform_parameters)\n",
    "\n",
    "# Update object (required)\n",
    "transformix_object.UpdateLargestPossibleRegion()\n",
    "\n",
    "# Results of Transformation\n",
    "result_mask = transformix_object.GetOutput()"
   ]
  },
  {
   "cell_type": "markdown",
   "metadata": {},
   "source": [
    "### Segmentation Transformation Evaluation"
   ]
  },
  {
   "cell_type": "markdown",
   "metadata": {},
   "source": [
    "The result of a segmentation transformation can be evaluated by means of, for example, the dice loss. The dice loss is the proportion of the 2 segmentations that overlap. In the example above the masks used were segmentations of the images. (This is offcourse not always the case, masks could also hide artifacts, in which case they're not (only) image segmentations). The dice loss of the segmentation transformation can therefore be calculated with the dice loss of the 2 masks."
   ]
  },
  {
   "cell_type": "code",
   "execution_count": 19,
   "metadata": {},
   "outputs": [],
   "source": [
    "# In case of boolaen segmentation, the dice loss is equal to 2 x dot product of the flattened arrays, \n",
    "# divided by the total volume of both masks.\n",
    "def dice_loss(y_true, y_pred):\n",
    "    y_true = y_true.flatten()\n",
    "    y_pred = y_pred.flatten()\n",
    "    intersection = y_true.dot(y_pred)\n",
    "    union = sum(y_true) + sum(y_pred)\n",
    "    dice = 2 * intersection/union\n",
    "    return dice"
   ]
  },
  {
   "cell_type": "code",
   "execution_count": 20,
   "metadata": {},
   "outputs": [],
   "source": [
    "# Import groundtruth segmentation\n",
    "fixed_mask = itk.imread('data/CT_3D_lung_fixed_mask.mha', itk.F)\n",
    "\n",
    "# Cast itk images to numpy arrays and round result image to boolean array.\n",
    "fixed_mask_np = np.asarray(fixed_mask)\n",
    "result_mask_np = np.asarray(result_moving_mask).round().astype(int)"
   ]
  },
  {
   "cell_type": "code",
   "execution_count": 21,
   "metadata": {},
   "outputs": [
    {
     "name": "stdout",
     "output_type": "stream",
     "text": [
      "Dice loss: 0.9058965662984972\n"
     ]
    }
   ],
   "source": [
    "print(\"Dice loss:\",dice_loss(fixed_mask_np, result_mask_np))"
   ]
  },
  {
   "cell_type": "code",
   "execution_count": 22,
   "metadata": {},
   "outputs": [
    {
     "data": {
      "application/vnd.jupyter.widget-view+json": {
       "model_id": "ee6e0af46b4640daa375e84b7a709cda",
       "version_major": 2,
       "version_minor": 0
      },
      "text/plain": [
       "AppLayout(children=(HBox(children=(Label(value='Link:'), Checkbox(value=False, description='cmap'), Checkbox(v…"
      ]
     },
     "metadata": {},
     "output_type": "display_data"
    }
   ],
   "source": [
    "compare(fixed_mask, result_mask)"
   ]
  },
  {
   "cell_type": "markdown",
   "metadata": {},
   "source": [
    "### Point Set Transformation"
   ]
  },
  {
   "cell_type": "code",
   "execution_count": 34,
   "metadata": {},
   "outputs": [],
   "source": [
    "# Procedural interface of transformix filter n\n",
    "result_point_set = itk.transformix_filter(\n",
    "    moving_image, result_transform_parameters,\n",
    "    fixed_point_set_file_name='data/CT_3D_lung_fixed_point_set.txt',\n",
    "    output_directory = 'exampleoutput')\n",
    "\n",
    "# -- Bug? -- Output is saved as .txt file in outputdirectory.\n",
    "# The .GetOutput() function outputs an empty image."
   ]
  },
  {
   "cell_type": "code",
   "execution_count": 26,
   "metadata": {},
   "outputs": [],
   "source": [
    "# Load Transformix Object\n",
    "# Explicit call to 3D Transformix method is currently necessary \n",
    "# for 3D (point set) transformations, this might change in future versions.\n",
    "transformix_object = itk.TransformixFilter.New(moving_image)\n",
    "transformix_object.SetFixedPointSetFileName('data/CT_3D_lung_fixed_point_set.txt')\n",
    "transformix_object.SetTransformParameterObject(result_transform_parameters)\n",
    "transformix_object.SetLogToConsole(True)\n",
    "transformix_object.SetOutputDirectory('./exampleoutput/')\n",
    "\n",
    "# Update object (required)\n",
    "transformix_object.UpdateLargestPossibleRegion()\n",
    "\n",
    "# Results of Transformation\n",
    "# -- Bug? -- Output is saved as .txt file in outputdirectory.\n",
    "# The .GetOutput() function outputs an empty image.\n",
    "output_transformix = transformix_object.GetOutput()"
   ]
  }
 ],
 "metadata": {
  "kernelspec": {
   "display_name": "Python 3",
   "language": "python",
   "name": "python3"
  },
  "language_info": {
   "codemirror_mode": {
    "name": "ipython",
    "version": 3
   },
   "file_extension": ".py",
   "mimetype": "text/x-python",
   "name": "python",
   "nbconvert_exporter": "python",
   "pygments_lexer": "ipython3",
   "version": "3.8.0"
  }
 },
 "nbformat": 4,
 "nbformat_minor": 4
}
