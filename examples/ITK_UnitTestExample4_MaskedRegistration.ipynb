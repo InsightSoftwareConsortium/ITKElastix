{
 "cells": [
  {
   "cell_type": "markdown",
   "metadata": {},
   "source": [
    "# Elastix\n",
    "\n",
    "This notebooks show very basic image registration examples with on-the-fly generated binary images."
   ]
  },
  {
   "cell_type": "code",
   "execution_count": 1,
   "metadata": {},
   "outputs": [],
   "source": [
    "from itk import itkElastixRegistrationMethodPython\n",
    "from itk import itkTransformixFilterPython\n",
    "import itk\n",
    "import numpy as np\n",
    "import matplotlib.pyplot as plt"
   ]
  },
  {
   "cell_type": "markdown",
   "metadata": {},
   "source": [
    "## Image generators"
   ]
  },
  {
   "cell_type": "code",
   "execution_count": 5,
   "metadata": {},
   "outputs": [],
   "source": [
    "def image_generator(x1, x2, y1, y2, mask=False, artefact=False):\n",
    "    if mask:\n",
    "        image = np.zeros([100, 100], np.uint8)\n",
    "    else:\n",
    "        image = np.zeros([100, 100], np.float32)\n",
    "    image[y1:y2, x1:x2] = 1\n",
    "    if artefact:\n",
    "        image[-10:, :] = 1\n",
    "    image = itk.image_view_from_array(image)\n",
    "    return image"
   ]
  },
  {
   "cell_type": "markdown",
   "metadata": {},
   "source": [
    "### Masked Registration Test"
   ]
  },
  {
   "cell_type": "code",
   "execution_count": 6,
   "metadata": {},
   "outputs": [],
   "source": [
    "# Create rigid transformed test images with artefact\n",
    "fixed_image = image_generator(25, 75, 25, 75, artefact=True)\n",
    "moving_image = image_generator(1, 51, 10, 60, artefact=True)\n",
    "\n",
    "# Create mask for artefact\n",
    "fixed_mask = image_generator(0, 100, 0, 90, mask=True)\n",
    "moving_mask = image_generator(0, 100, 0, 90, mask=True)\n",
    "\n",
    "# Import Default Parameter Map\n",
    "parameter_object = itk.ParameterObject.New()\n",
    "default_rigid_parameter_map = parameter_object.GetDefaultParameterMap('rigid')\n",
    "parameter_object.AddParameterMap(default_rigid_parameter_map)\n",
    "\n",
    "# Call registration function\n",
    "result_image, result_transform_parameters = itk.elastix_registration_method(\n",
    "    fixed_image, moving_image,\n",
    "    fixed_mask=fixed_mask,\n",
    "    moving_mask=moving_mask,\n",
    "    parameter_object=parameter_object)"
   ]
  },
  {
   "cell_type": "markdown",
   "metadata": {},
   "source": [
    "### Masked Registration Test Visualization"
   ]
  },
  {
   "cell_type": "code",
   "execution_count": 7,
   "metadata": {},
   "outputs": [
    {
     "data": {
      "image/png": "[encoded data removed]",
      "text/plain": [
       "<Figure size 2160x2160 with 5 Axes>"
      ]
     },
     "metadata": {
      "needs_background": "light"
     },
     "output_type": "display_data"
    }
   ],
   "source": [
    "%matplotlib inline\n",
    "\n",
    "# Plot images\n",
    "fig, axs = plt.subplots(1,5, sharey=True, figsize=[30,30])\n",
    "plt.figsize=[100,100]\n",
    "axs[0].imshow(fixed_mask)\n",
    "axs[0].set_title('Fixed Mask', fontsize=30)\n",
    "axs[1].imshow(moving_mask)\n",
    "axs[1].set_title('Moving Mask', fontsize=30)\n",
    "axs[2].imshow(fixed_image)\n",
    "axs[2].set_title('Fixed', fontsize=30)\n",
    "axs[3].imshow(moving_image)\n",
    "axs[3].set_title('Moving', fontsize=30)\n",
    "axs[4].imshow(result_image)\n",
    "axs[4].set_title('Result', fontsize=30)\n",
    "plt.show()"
   ]
  }
 ],
 "metadata": {
  "kernelspec": {
   "display_name": "ITKTestEnvDebug",
   "language": "python",
   "name": "itktestenvdebug"
  },
  "language_info": {
   "codemirror_mode": {
    "name": "ipython",
    "version": 3
   },
   "file_extension": ".py",
   "mimetype": "text/x-python",
   "name": "python",
   "nbconvert_exporter": "python",
   "pygments_lexer": "ipython3",
   "version": "3.7.9"
  }
 },
 "nbformat": 4,
 "nbformat_minor": 4
}
