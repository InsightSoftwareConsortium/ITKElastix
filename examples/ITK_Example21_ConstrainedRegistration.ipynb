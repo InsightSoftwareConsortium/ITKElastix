{
 "cells": [
  {
   "cell_type": "markdown",
   "id": "9e396956",
   "metadata": {},
   "source": [
    "This is an example notebook on how to contrain the registration in respect to specific tranformation parameters using `Scales`. The example involves an Euler Transform (=Rigid Transform) where the translation along one axis is constrained."
   ]
  },
  {
   "cell_type": "code",
   "execution_count": 1,
   "id": "00f5c930",
   "metadata": {},
   "outputs": [],
   "source": [
    "import itk\n",
    "import numpy as np\n",
    "import matplotlib.pyplot as plt"
   ]
  },
  {
   "cell_type": "markdown",
   "id": "32b06b87",
   "metadata": {},
   "source": [
    "### Create a synthetic pair of images"
   ]
  },
  {
   "cell_type": "code",
   "execution_count": 2,
   "id": "7960a301",
   "metadata": {},
   "outputs": [],
   "source": [
    "fixed_image = np.zeros((100, 100), dtype=np.float32)\n",
    "fixed_image[25:75, 25:75] = 1\n",
    "fixed_image = itk.image_from_array(fixed_image)"
   ]
  },
  {
   "cell_type": "code",
   "execution_count": 3,
   "id": "4c782c2c",
   "metadata": {},
   "outputs": [],
   "source": [
    "translation = [20, -15]\n",
    "transform = itk.Euler2DTransform.New()\n",
    "transform.SetOffset(translation)\n",
    "transform.SetAngleInDegrees(15)\n",
    "transform.SetCenter([50, 50])\n",
    "\n",
    "parameter_map = {\n",
    "                 \"Direction\": (\"1\", \"0\", \"0\", \"1\"),\n",
    "                 \"Index\": (\"0\", \"0\"),\n",
    "                 \"Origin\": (\"0\", \"0\"),\n",
    "                 \"Size\": (\"100\", \"100\"),\n",
    "                 \"Spacing\": (\"1\", \"1\"),\n",
    "                 \"FinalBSplineInterpolationOrder\": (\"0\")\n",
    "                }"
   ]
  },
  {
   "cell_type": "code",
   "execution_count": 4,
   "id": "b9c9ecdf",
   "metadata": {},
   "outputs": [],
   "source": [
    "transform_parameter_object = itk.ParameterObject.New()\n",
    "transform_parameter_object.AddParameterMap(parameter_map)\n",
    "\n",
    "transformix_filter = itk.TransformixFilter.New(fixed_image)\n",
    "transformix_filter.SetMovingImage(fixed_image)\n",
    "transformix_filter.SetTransformParameterObject(transform_parameter_object)\n",
    "transformix_filter.SetTransform(transform)\n",
    "transformix_filter.Update()\n",
    "\n",
    "moving_image = transformix_filter.GetOutput()"
   ]
  },
  {
   "cell_type": "code",
   "execution_count": 5,
   "id": "d214ccd7",
   "metadata": {},
   "outputs": [
    {
     "data": {
      "image/png": "[encoded data removed]",
      "text/plain": [
       "<Figure size 640x480 with 2 Axes>"
      ]
     },
     "metadata": {},
     "output_type": "display_data"
    }
   ],
   "source": [
    "def show_images(images):\n",
    "    labels = ['fixed', 'moving', 'registered']\n",
    "    for i, image in enumerate(images):\n",
    "        plt.subplot(1, len(images), i+1)\n",
    "        plt.imshow(image, cmap='gray')\n",
    "        plt.title(labels[i])\n",
    "        plt.axis('off')\n",
    "    plt.show()\n",
    "\n",
    "show_images([fixed_image, moving_image])"
   ]
  },
  {
   "cell_type": "markdown",
   "id": "1b05a1b1",
   "metadata": {},
   "source": [
    "### Registration 1: Unconstrained"
   ]
  },
  {
   "cell_type": "markdown",
   "id": "12b0533e",
   "metadata": {},
   "source": [
    "This first registration is unconstrained, and serves the purpose of having a baseline to compare the contrained registration that follows."
   ]
  },
  {
   "cell_type": "code",
   "execution_count": 6,
   "id": "ee080861",
   "metadata": {},
   "outputs": [
    {
     "name": "stdout",
     "output_type": "stream",
     "text": [
      "ParameterObject (00000230A4E7FC00)\n",
      "  RTTI typeinfo:   class elastix::ParameterObject\n",
      "  Reference Count: 1\n",
      "  Modified Time: 875\n",
      "  Debug: Off\n",
      "  Object Name: \n",
      "  Observers: \n",
      "    none\n",
      "ParameterMap 0: \n",
      "  (AutomaticParameterEstimation \"true\")\n",
      "  (AutomaticScalesEstimation \"true\")\n",
      "  (CheckNumberOfSamples \"true\")\n",
      "  (DefaultPixelValue 0)\n",
      "  (FinalBSplineInterpolationOrder 0)\n",
      "  (FixedImagePyramid \"FixedSmoothingImagePyramid\")\n",
      "  (ImageSampler \"RandomCoordinate\")\n",
      "  (Interpolator \"LinearInterpolator\")\n",
      "  (MaximumNumberOfIterations 256)\n",
      "  (MaximumNumberOfSamplingAttempts 8)\n",
      "  (Metric \"AdvancedMattesMutualInformation\")\n",
      "  (MovingImagePyramid \"MovingSmoothingImagePyramid\")\n",
      "  (NewSamplesEveryIteration \"true\")\n",
      "  (NumberOfResolutions 4)\n",
      "  (NumberOfSamplesForExactGradient 4096)\n",
      "  (NumberOfSpatialSamples 2048)\n",
      "  (Optimizer \"AdaptiveStochasticGradientDescent\")\n",
      "  (Registration \"MultiResolutionRegistration\")\n",
      "  (ResampleInterpolator \"FinalBSplineInterpolator\")\n",
      "  (Resampler \"DefaultResampler\")\n",
      "  (ResultImageFormat \"nii\")\n",
      "  (Transform \"EulerTransform\")\n",
      "  (WriteIterationInfo \"false\")\n",
      "  (WriteResultImage \"true\")\n",
      "\n"
     ]
    }
   ],
   "source": [
    "rigid_parameter_object = itk.ParameterObject.New()\n",
    "rigid_parameter_map = rigid_parameter_object.GetDefaultParameterMap('rigid')\n",
    "rigid_parameter_map['FinalBSplineInterpolationOrder'] = ('0')\n",
    "rigid_parameter_object.AddParameterMap(rigid_parameter_map)\n",
    "\n",
    "print(rigid_parameter_object)"
   ]
  },
  {
   "cell_type": "code",
   "execution_count": 7,
   "id": "c9ffda6e",
   "metadata": {},
   "outputs": [],
   "source": [
    "unconstrained_result_image, result_transform_parameters = itk.elastix_registration_method(\n",
    "    fixed_image, moving_image,\n",
    "    parameter_object=rigid_parameter_object,\n",
    "    log_to_console=False)"
   ]
  },
  {
   "cell_type": "code",
   "execution_count": 8,
   "id": "a9474430",
   "metadata": {},
   "outputs": [
    {
     "data": {
      "image/png": "[encoded data removed]",
      "text/plain": [
       "<Figure size 640x480 with 3 Axes>"
      ]
     },
     "metadata": {},
     "output_type": "display_data"
    }
   ],
   "source": [
    "show_images([fixed_image, moving_image, unconstrained_result_image])"
   ]
  },
  {
   "cell_type": "markdown",
   "id": "0a5e3ffc",
   "metadata": {},
   "source": [
    "### Registration 2: Constrained"
   ]
  },
  {
   "cell_type": "markdown",
   "id": "b637f250",
   "metadata": {},
   "source": [
    "We will contrain the registration by setting an arbitarily high value for the `Scales` entry that corresponds to the transformation parameter (e.g. translation direction) that we want to penalize.\n",
    "\n",
    "NOTE: To do that we need to set manually also the rest of the `Scales` values. We can find the suitable values by first doing a 'dry-run' registration where `AutomaticScalesEstimation` is `true` and `MaximumNumberOfIterations` is `1`. We then find the calculated `Scales` by inspecting the log.\n",
    "\n",
    "Following the above-mentioned procdure we see that the calculated `Scales` are `[1666.5, 1, 1]`. Now, let's penalize one of the entries."
   ]
  },
  {
   "cell_type": "code",
   "execution_count": 9,
   "id": "c405b1af",
   "metadata": {},
   "outputs": [
    {
     "name": "stdout",
     "output_type": "stream",
     "text": [
      "ParameterObject (00000230A4E7EAC0)\n",
      "  RTTI typeinfo:   class elastix::ParameterObject\n",
      "  Reference Count: 1\n",
      "  Modified Time: 35387\n",
      "  Debug: Off\n",
      "  Object Name: \n",
      "  Observers: \n",
      "    none\n",
      "ParameterMap 0: \n",
      "  (AutomaticParameterEstimation \"true\")\n",
      "  (AutomaticScalesEstimation \"false\")\n",
      "  (CheckNumberOfSamples \"true\")\n",
      "  (DefaultPixelValue 0)\n",
      "  (FinalBSplineInterpolationOrder 0)\n",
      "  (FixedImagePyramid \"FixedSmoothingImagePyramid\")\n",
      "  (ImageSampler \"RandomCoordinate\")\n",
      "  (Interpolator \"LinearInterpolator\")\n",
      "  (MaximumNumberOfIterations 256)\n",
      "  (MaximumNumberOfSamplingAttempts 8)\n",
      "  (Metric \"AdvancedMattesMutualInformation\")\n",
      "  (MovingImagePyramid \"MovingSmoothingImagePyramid\")\n",
      "  (NewSamplesEveryIteration \"true\")\n",
      "  (NumberOfResolutions 4)\n",
      "  (NumberOfSamplesForExactGradient 4096)\n",
      "  (NumberOfSpatialSamples 2048)\n",
      "  (Optimizer \"AdaptiveStochasticGradientDescent\")\n",
      "  (Registration \"MultiResolutionRegistration\")\n",
      "  (ResampleInterpolator \"FinalBSplineInterpolator\")\n",
      "  (Resampler \"DefaultResampler\")\n",
      "  (ResultImageFormat \"nii\")\n",
      "  (Scales 1666.5 1 3.40282e+38)\n",
      "  (Transform \"EulerTransform\")\n",
      "  (WriteIterationInfo \"false\")\n",
      "  (WriteResultImage \"true\")\n",
      "\n"
     ]
    }
   ],
   "source": [
    "constrained_rigid_parameter_object = itk.ParameterObject.New()\n",
    "constrained_rigid_parameter_map = constrained_rigid_parameter_object.GetDefaultParameterMap('rigid')\n",
    "constrained_rigid_parameter_map['FinalBSplineInterpolationOrder'] = ('0')\n",
    "constrained_rigid_parameter_map['AutomaticScalesEstimation'] = ('false',)\n",
    "constrained_rigid_parameter_map['Scales'] = ('1666.5', '1', str(np.finfo(fixed_image.dtype).max))\n",
    "constrained_rigid_parameter_object.AddParameterMap(constrained_rigid_parameter_map)\n",
    "\n",
    "print(constrained_rigid_parameter_object)"
   ]
  },
  {
   "cell_type": "code",
   "execution_count": 10,
   "id": "5cf28138",
   "metadata": {},
   "outputs": [],
   "source": [
    "constrained_result_image, result_transform_parameters = itk.elastix_registration_method(\n",
    "    fixed_image, moving_image,\n",
    "    parameter_object=constrained_rigid_parameter_object,\n",
    "    log_to_console=False)"
   ]
  },
  {
   "cell_type": "code",
   "execution_count": 11,
   "id": "aa9c8feb",
   "metadata": {},
   "outputs": [
    {
     "data": {
      "image/png": "[encoded data removed]",
      "text/plain": [
       "<Figure size 640x480 with 3 Axes>"
      ]
     },
     "metadata": {},
     "output_type": "display_data"
    }
   ],
   "source": [
    "show_images([fixed_image, moving_image, constrained_result_image])"
   ]
  },
  {
   "cell_type": "code",
   "execution_count": null,
   "id": "10a04c5b",
   "metadata": {},
   "outputs": [],
   "source": []
  }
 ],
 "metadata": {
  "kernelspec": {
   "display_name": "Python 3 (ipykernel)",
   "language": "python",
   "name": "python3"
  },
  "language_info": {
   "codemirror_mode": {
    "name": "ipython",
    "version": 3
   },
   "file_extension": ".py",
   "mimetype": "text/x-python",
   "name": "python",
   "nbconvert_exporter": "python",
   "pygments_lexer": "ipython3",
   "version": "3.11.5"
  }
 },
 "nbformat": 4,
 "nbformat_minor": 5
}
